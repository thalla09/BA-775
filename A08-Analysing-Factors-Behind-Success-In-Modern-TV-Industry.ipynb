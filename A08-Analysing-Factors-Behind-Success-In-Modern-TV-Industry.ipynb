{
 "cells": [
  {
   "cell_type": "markdown",
   "id": "458c49bc-c982-4614-98b7-dbf158f38442",
   "metadata": {
    "tags": []
   },
   "source": [
    "# Team A08- Analysing Factors Behind Success In Modern TV Industry"
   ]
  },
  {
   "cell_type": "markdown",
   "id": "b3f65f48-3747-4f8b-90a8-f86750745f16",
   "metadata": {
    "tags": []
   },
   "source": [
    "#### **Collaborators:** Adarsh Prajapat, Rohit Devanaboina, Muhammad Shayan Hasan Khan, Ritam Bhattacharya, Shizuka Takahashi, Shravani Thalla"
   ]
  },
  {
   "cell_type": "markdown",
   "id": "5aab03c0-1e28-4be8-bde0-1293bdc44d7b",
   "metadata": {},
   "source": [
    "![IMDb-TV.png](https://cordcutting.com/wp-content/uploads/2020/09/IMDb-TV-.png)"
   ]
  },
  {
   "cell_type": "markdown",
   "id": "878bd95b-51ac-450d-b0af-3eb9be13e307",
   "metadata": {},
   "source": [
    "<br>"
   ]
  },
  {
   "cell_type": "markdown",
   "id": "6f80ea31-cbdd-4655-8813-1e09f1721554",
   "metadata": {
    "tags": []
   },
   "source": [
    "## **Table of Content**\n",
    "---"
   ]
  },
  {
   "cell_type": "markdown",
   "id": "14366229-0a95-40b0-a1f6-d6d3d4790e45",
   "metadata": {
    "tags": []
   },
   "source": [
    "### 0. Tableau\n",
    "### I. Introduction and Motivation\n",
    "\n",
    "### II. Executive Summary\n",
    "\n",
    "### III. Project Description & Dataset Overview\n",
    "\n",
    "    1. Problem Statement\n",
    "    2. Data Source\n",
    "    3. Data Dictionary\n",
    "\n",
    "\n",
    "### IV. Entity Relationship Diagram\n",
    "\n",
    "### V. Exploratory Data Analysis\n",
    "    \n",
    "### VI. Conclusion\n",
    "\n",
    "### VII. Challenges\n",
    "\n",
    "### VIII. References\n",
    "\n",
    "### IX. Tableau Dashboard"
   ]
  },
  {
   "cell_type": "markdown",
   "id": "09f7b989-044a-4b3a-8a01-c05c3c5e1b47",
   "metadata": {},
   "source": [
    "<br>"
   ]
  },
  {
   "cell_type": "markdown",
   "id": "ff972a15-6071-464e-b5f5-2df567d35e4a",
   "metadata": {
    "tags": []
   },
   "source": [
    "## 0) Tableau\n",
    "---"
   ]
  },
  {
   "cell_type": "markdown",
   "id": "a37b74a2-7cec-4c20-b810-caf926b65240",
   "metadata": {},
   "source": [
    "__Link to Tableau Public Dashboard__ - https://public.tableau.com/app/profile/rohit.devanaboina2582/viz/Team-A08-TableauProject775-Final/FinalDashboard"
   ]
  },
  {
   "cell_type": "markdown",
   "id": "706e58da-3f10-40ff-9489-ddcc8032883d",
   "metadata": {},
   "source": [
    "### Dashboard Page 1"
   ]
  },
  {
   "cell_type": "code",
   "execution_count": 25,
   "id": "ab73233b-bb3e-42c0-90b5-bbc2efbed96c",
   "metadata": {
    "tags": []
   },
   "outputs": [
    {
     "data": {
      "text/html": [
       "<img src=\"https://drive.google.com/uc?export=view&id=1CqhEE0lj8uK3H2ZjdUEc4JKoG5e7oZj6\" width=\"1280\" height=\"720\"/>"
      ],
      "text/plain": [
       "<IPython.core.display.Image object>"
      ]
     },
     "execution_count": 25,
     "metadata": {},
     "output_type": "execute_result"
    }
   ],
   "source": [
    "from IPython.display import Image \n",
    "Image(url=\"https://drive.google.com/uc?export=view&id=1CqhEE0lj8uK3H2ZjdUEc4JKoG5e7oZj6\", width = 1280, height = 720)"
   ]
  },
  {
   "cell_type": "markdown",
   "id": "3e5f5d73-43fa-4efd-924f-ccc566393b19",
   "metadata": {},
   "source": [
    "### Dashboard Page 2"
   ]
  },
  {
   "cell_type": "code",
   "execution_count": 26,
   "id": "d3bcf8ba-c30e-4d35-b614-dc6361e7424c",
   "metadata": {
    "tags": []
   },
   "outputs": [
    {
     "data": {
      "text/html": [
       "<img src=\"https://drive.google.com/uc?export=view&id=1KkbEl4SIVFLGvlBpfcBduWRqFWMIFPB1\" width=\"1280\" height=\"720\"/>"
      ],
      "text/plain": [
       "<IPython.core.display.Image object>"
      ]
     },
     "execution_count": 26,
     "metadata": {},
     "output_type": "execute_result"
    }
   ],
   "source": [
    "from IPython.display import Image \n",
    "Image(url=\"https://drive.google.com/uc?export=view&id=1KkbEl4SIVFLGvlBpfcBduWRqFWMIFPB1\", width = 1280, height = 720)"
   ]
  },
  {
   "cell_type": "markdown",
   "id": "1a1ba5ba-0fe0-4b1a-bdfb-4c4fe7da41e3",
   "metadata": {},
   "source": [
    "<br>"
   ]
  },
  {
   "cell_type": "markdown",
   "id": "6351c63a-815c-4ef0-acc0-75e93cfeb36e",
   "metadata": {
    "tags": []
   },
   "source": [
    "## I) Introduction and Motivation\n",
    "---"
   ]
  },
  {
   "cell_type": "markdown",
   "id": "3a163421-f53b-411b-b006-0c29db4f1d3a",
   "metadata": {},
   "source": [
    "Our exploration into factors behind success in modern TV industry using the IMDb dataset is an exciting journey into understanding what makes TV shows popular and also successful. We're diving deep into this vast dataset, which holds a treasure trove of information about movies, TV series, video games and much more.\n",
    "\n",
    "We're passionate about this project because we want to uncover the secrets behind why some shows become huge hits while others might not. By analyzing the data from IMDb, we aim to __discover the patterns and factors__ that make a show successful. This knowledge can help TV makers create better and more engaging content, improving the experience for viewers like us.\n",
    "\n",
    "**IMDb Dataset and its Importance**\n",
    "\n",
    "IMDb is like a huge library filled with information about movies, TV shows, games, podcasts, etc., including cast, production crew and personal biographies, plot summaries, trivia, ratings, and fan and critical reviews. It collects data from various sources, including users who write reviews and give ratings for each show or movie they watch. This data is incredibly valuable because it reflects what people like and don't like about different TV series, movies and others.\n",
    "\n",
    "The ratings and reviews on IMDb act as a guide for viewers looking for something to watch. They help suggest which shows or movies might be worth watching based on other people's experiences. Filmmakers and TV producers also use this information to understand audience preferences, guiding them in making decisions about what types of shows or movies are currently resonating with viewers and what to create in the future. Therefore, our objective here is to streamline their work process and provide comprehensive insights, enabling them to make __well-informed decisions__ based on our thorough __descriptive analysis__."
   ]
  },
  {
   "cell_type": "markdown",
   "id": "1e869799-4d0e-4f48-ba04-9199428bab8e",
   "metadata": {},
   "source": [
    "<BR>"
   ]
  },
  {
   "cell_type": "markdown",
   "id": "7345d39d-c8bf-4f86-ada6-55be1cf9d4ca",
   "metadata": {
    "tags": []
   },
   "source": [
    "## II) Executive Summary\n",
    "---"
   ]
  },
  {
   "cell_type": "markdown",
   "id": "eebfcc1d-2c6c-4d5f-88b1-f5fcd972befb",
   "metadata": {
    "tags": []
   },
   "source": [
    "Our comprehensive analysis of the IMDb dataset aimed to unearth the secrets behind the success of media shows in the contemporary landscape, specifically focusing on TV series genres and their contributing elements. By scrutinizing multiple facets encompassing genres, cast, crew, and regions, our objective was to __empower TV producers and production companies__ in making informed decisions for show development, thereby amplifying their __market influence globally__. We strategically narrowed our focus to __TV industry data__, a pivotal market segment capturing a significant audience share.\n",
    "\n",
    "Refining our dataset by eliminating null values and duplicates, we concentrated on TV industry data spanning from the 2000s to present, ensuring data accuracy. Employing descriptive analytics through __SQL__ and implementing interesting plots leveraging BI tool like __Tableau__, we extracted profound insights into the factors driving success in TV series and episodes across various levels: location, genres, cast, and crew dynamics. Notably, our analysis unveiled the pivotal role of language popularity and geographic locations in dictating a show's triumph or downfall, in our case a _Blockbuster_ or a _Flop_, indicating that a devoted audience base trumps widespread popularity in elevating ratings.\n",
    "\n",
    "Contrary to common belief, high popularity doesn't invariably translate to high ratings; rather, it's the __dedicated audience base__ that uplifts a show's ratings, particularly in smaller regions. We firmly believe that insights observed from analyses of this nature will serve as guiding beacons for content creators, enabling them to channel their focus on critical factors, ultimately augmenting a show's popularity, ratings, and, consequently, enhancing the profitability of their productions."
   ]
  },
  {
   "cell_type": "markdown",
   "id": "4c844f7e-6918-4a1d-b288-b7401392dcdf",
   "metadata": {},
   "source": [
    "<BR>"
   ]
  },
  {
   "cell_type": "markdown",
   "id": "a439e1f3-0a14-4bb8-929c-9508de56740c",
   "metadata": {
    "tags": []
   },
   "source": [
    "## III) Project Description & Dataset Overview\n",
    "---"
   ]
  },
  {
   "cell_type": "markdown",
   "id": "74833ec7-ac21-42dc-bc5a-5cca7745b001",
   "metadata": {},
   "source": [
    "### 1. Problem Definition\n",
    "\n",
    "Entering the exciting world of TV, our project dives deep into understanding how shows have changed over many years using the huge IMDb dataset. __Leveraging rigorous SQL queries__ and meticulous analyses, our aim is to unveil pivotal insights shaping the evolving landscape of TV shows. Using most powerful __Business Intelligence tool - Tableau__ through custom SQL queries, and visualizing our insights through __dashboards and stories.__\n",
    "\n",
    "We really want to know what people like to watch, how types of shows are changing, and what's new in the TV world. Our main goal is to help people who make shows, big companies like Netflix and Amazon Prime, and others in the TV business and also provide meaning insights to viewrs who watch them. These companies have changed how we watch TV, and our research wants to help them understand what viewers like, what shows work best, and what's becoming popular.\n",
    "\n",
    "Hence, our analysis spans more than __two decades of TV shows__, scrutinizing standout episodes and series, dissecting the creative minds behind them, analyzing geographic expansions in the industry, and uncovering critical factors impacting a show's trajectory. By describing viewer preferences and industry dynamics, our project endeavors to drive data-informed strategies, fostering superior content creation, resource allocation, and heightened audience engagement within the dynamic domain of television entertainment."
   ]
  },
  {
   "cell_type": "markdown",
   "id": "3018cc20-d413-4f2f-9b5b-e99f44cf4022",
   "metadata": {},
   "source": [
    "### 2. Data Source\n",
    "\n",
    "We have chosen to utilize the official dataset provided by IMDb, a reputable source for tv-related data. This dataset encompasses a wide range of information, including details about tv series, miniseries, actors, directors, genres, and much more. The dataset can be accessed through the following link: [IMDb Dataset Source and Link](https://developer.imdb.com/non-commercial-datasets/)\n"
   ]
  },
  {
   "cell_type": "markdown",
   "id": "e2009f9b-5319-44f7-8988-3690ee6ac2db",
   "metadata": {
    "tags": []
   },
   "source": [
    "### 3. Data Dictionary\n",
    "\n",
    "__Our project comprises of seven datasets as described below.__\n",
    "\n",
    "**`title_principals table`**<br>\n",
    "Contains the job roles (eg.director, producer etc.), category of jobs, and characters played. It has 59026652 different entries and has 6 columns:\n",
    "* `tconst` (string) - alphanumeric unique identifier of the title\n",
    "* `ordering` (integer) – a number to uniquely identify rows for a given titleId\n",
    "* `nconst` (string) - alphanumeric unique identifier of the name/person\n",
    "* `category` (string) - the category of job that person was in\n",
    "* `job` (string) - the specific job title if applicable, else '\\N'\n",
    "* `characters` (string) - the name of the character played if applicable, else '\\N'\n",
    "\n",
    "**`names_basics table`**<br>\n",
    "Contains the basic detials of the person who played a role in certain tv shows. This has 12999851 entries and has 6 columns:\n",
    "\n",
    "* `nconst` (string) - alphanumeric unique identifier of the name/person\n",
    "* `primaryName` (string)– name by which the person is most often credited\n",
    "* `birthYear` – in YYYY format\n",
    "* `deathYear` – in YYYY format if applicable, else '\\N'\n",
    "* `primaryProfession` (array of strings)– the top-3 professions of the person\n",
    "* `knownForTitles` (array of tconsts) – titles the person is known for\n",
    "\n",
    "**`titles_akas table`**<br>\n",
    "This dataset is valuable for understanding how movies or TV shows are localized or presented in different regions, languages.\n",
    "This has 37806944 and contains 6 columns:\n",
    "\n",
    "* `titleId` (string) - a tconst, an alphanumeric unique identifier of the title\n",
    "* `ordering` (integer) – a number to uniquely identify rows for a given titleId\n",
    "* `title` (string) – the localized title\n",
    "* `region` (string) - the region for this version of the title\n",
    "* `language` (string) - the language of the title\n",
    "* `types` (array) - Enumerated set of attributes for this alternative title. One or more of the following: \"alternative\", \"dvd\", \"festival\", \"tv\", \"video\", \"working\", \"original\", \"imdbDisplay\". New values may be added in the future without warning\n",
    "* `attributes` (array) - Additional terms to describe this alternative title, not enumerated\n",
    "* `isoriginalTitle` (boolean) – 0: not original title; 1: original title\n",
    "\n",
    "**`title_basics table`**<br>\n",
    "Contains title details of the tv shows etc. This table has 10306126 entries and has 9 columns:\n",
    "\n",
    "* `tconst` (string): Unique identifier for media for\n",
    "* `titleType` (string): Identifies the type of media eg. movie, tvepisode etc\n",
    "* `primaryTitle` (string): the more popular title / the title used by the filmmakers on promotional materials at the point of release\n",
    "* `originalTitle` (string) - original title, in the original language \n",
    "* `isAdult` (boolean) - 0: non-adult title; 1: adult title\n",
    "* `startYear` (YYYY) – represents the release year of a title. In the case of TV Series, it is the series start year\n",
    "* `endYear` (YYYY) – TV Series end year. ‘\\N’ for all other title types\n",
    "* `runtimeMinutes` – primary runtime of the title, in minutes\n",
    "* `genres` (string array) – includes up to three genres associated with the title\n",
    "\n",
    "**`title_crew table`**<br>\n",
    "Contains director details. This table has 10309011 and has 3 columns:\n",
    "* `tconst` (string) - alphanumeric unique identifier of the title\n",
    "* `directors` (array of nconsts) - director(s) of the given title\n",
    "* `writers` (array of nconsts) – writer(s) of the given title\n",
    "\n",
    "**`title_episode table`**<br>\n",
    "Contains season and episode details. This table contains 7862280 entries and has 4 columns:\n",
    "* `tconst` (string) - alphanumeric identifier of episode\n",
    "* `parentTconst` (string) - alphanumeric identifier of the parent TV Series\n",
    "* `seasonNumber` (integer) – season number the episode belongs to\n",
    "* `episodeNumber` (integer) – episode number of the tconst in the TV series\n",
    "\n",
    "**`title_ratings table`**<br>\n",
    "Contains user rating and votes. This table contains 1368920 entries and has 3 columns:\n",
    "* `tconst` (string) - alphanumeric unique identifier of the title\n",
    "* `averageRating` – weighted average of all the individual user ratings\n",
    "* `numVotes` - number of votes the title has received"
   ]
  },
  {
   "cell_type": "markdown",
   "id": "129ecfc4-5fb1-4c34-9cc8-c483b8d7fbda",
   "metadata": {
    "tags": []
   },
   "source": [
    "<BR>"
   ]
  },
  {
   "cell_type": "markdown",
   "id": "87b79243-6603-45c8-9ed3-69576c068689",
   "metadata": {
    "tags": []
   },
   "source": [
    "## IV) ERD - Entity Relationship Diagram\n",
    "---"
   ]
  },
  {
   "cell_type": "code",
   "execution_count": 27,
   "id": "722fb1ef-a737-4996-addc-26a0a282b6a9",
   "metadata": {
    "tags": []
   },
   "outputs": [
    {
     "data": {
      "text/html": [
       "<img src=\"https://drive.google.com/uc?export=view&id=1pdtKn47t6LtSwQ2my7h9ibVY-Dg28CU7\" width=\"600\" height=\"800\"/>"
      ],
      "text/plain": [
       "<IPython.core.display.Image object>"
      ]
     },
     "execution_count": 27,
     "metadata": {},
     "output_type": "execute_result"
    }
   ],
   "source": [
    "from IPython.display import Image \n",
    "Image(url=\"https://drive.google.com/uc?export=view&id=1pdtKn47t6LtSwQ2my7h9ibVY-Dg28CU7\", width = 600, height = 800)\n"
   ]
  },
  {
   "cell_type": "markdown",
   "id": "41c8a50e-6739-43c6-a71f-2b5f780abe4a",
   "metadata": {},
   "source": [
    "### Summary of ERD\n",
    "\n",
    "The IMDB dataset consists of 7 distinct tables containing information on over 1 million movies, TV Series, Video Games and much more. These tables are related to each other via two keys - tconst (unique ID for each piece of media, such as a movie or a tv series) & nconst (unique ID for each individual, such as actors or directors). \n",
    "\n",
    "The titles_basic table serves as the primary source of truth, containing basic information for all titles (tconst) on IMDB. The remaining 6 tables contain additional information for each title (tconst), or the crew (nconsts) associated with each title. For example, title_akas contains geographic information for each title (tconst), such as coutnry of origin & language.\n",
    "\n",
    "In addition to this, we have 3 tables - names_basic, title_crew, title_principals - which provide information on the individuals that worked on the titles present in the titles_basic table. This includes info on cast, technical crew, writers and more."
   ]
  },
  {
   "cell_type": "markdown",
   "id": "346ce576-0568-421d-b6b2-7014f139cf7f",
   "metadata": {},
   "source": [
    "<br>"
   ]
  },
  {
   "cell_type": "markdown",
   "id": "bd0662e4-6558-4a48-8f56-5c4590e533ae",
   "metadata": {
    "tags": []
   },
   "source": [
    "## V) Exploratory Data Analysis\n",
    "---"
   ]
  },
  {
   "cell_type": "markdown",
   "id": "06f44081-df4b-467d-a569-ab1cb39c8379",
   "metadata": {},
   "source": [
    "##### Create a separate table to filter the category specific data (here:tvepisodes, tvseries and tvminiseries) and date range from 2000 onwards."
   ]
  },
  {
   "cell_type": "code",
   "execution_count": 1,
   "id": "4ada291c-09b2-4d3b-ad58-b505e21a8c58",
   "metadata": {
    "tags": []
   },
   "outputs": [
    {
     "data": {
      "application/vnd.jupyter.widget-view+json": {
       "model_id": "d35a1e1c08b342a085b9981afc845c7d",
       "version_major": 2,
       "version_minor": 0
      },
      "text/plain": [
       "Query is running:   0%|          |"
      ]
     },
     "metadata": {},
     "output_type": "display_data"
    },
    {
     "data": {
      "text/html": [
       "<div>\n",
       "<style scoped>\n",
       "    .dataframe tbody tr th:only-of-type {\n",
       "        vertical-align: middle;\n",
       "    }\n",
       "\n",
       "    .dataframe tbody tr th {\n",
       "        vertical-align: top;\n",
       "    }\n",
       "\n",
       "    .dataframe thead th {\n",
       "        text-align: right;\n",
       "    }\n",
       "</style>\n",
       "<table border=\"1\" class=\"dataframe\">\n",
       "  <thead>\n",
       "    <tr style=\"text-align: right;\">\n",
       "      <th></th>\n",
       "    </tr>\n",
       "  </thead>\n",
       "  <tbody>\n",
       "  </tbody>\n",
       "</table>\n",
       "</div>"
      ],
      "text/plain": [
       "Empty DataFrame\n",
       "Columns: []\n",
       "Index: []"
      ]
     },
     "execution_count": 1,
     "metadata": {},
     "output_type": "execute_result"
    }
   ],
   "source": [
    "%%bigquery\n",
    "CREATE OR REPLACE TABLE `ba775team08.imdb_non_commercial_datasets_11_11.title_basic_Tvseries_Tvminiseries_Tvepisodes` AS\n",
    "SELECT * FROM `ba775team08.imdb_non_commercial_datasets_11_11.title_basics` \n",
    "WHERE titleType= \"tvEpisode\" OR titleType= \"tvSeries\" OR titleType= \"tvMiniSeries\" AND startYear > '2000'"
   ]
  },
  {
   "cell_type": "markdown",
   "id": "935eb462-eee5-4d4e-bb6a-7edca5eb6345",
   "metadata": {
    "tags": []
   },
   "source": [
    "### Question 1. Which countries have produced TV shows with the highest popularity and ratings since 2000?"
   ]
  },
  {
   "cell_type": "markdown",
   "id": "9ffcf1a0-7531-4c4f-ac1d-b11c00e2d07d",
   "metadata": {},
   "source": [
    "#### Creating view by joining required table "
   ]
  },
  {
   "cell_type": "code",
   "execution_count": 10,
   "id": "9fde4e84-2591-4f6a-a9c4-d6dae9ffb311",
   "metadata": {
    "tags": []
   },
   "outputs": [
    {
     "data": {
      "application/vnd.jupyter.widget-view+json": {
       "model_id": "5f72c2e5e0a74f6e97e284134ed9fd76",
       "version_major": 2,
       "version_minor": 0
      },
      "text/plain": [
       "Query is running:   0%|          |"
      ]
     },
     "metadata": {},
     "output_type": "display_data"
    },
    {
     "data": {
      "application/vnd.jupyter.widget-view+json": {
       "model_id": "b0fb045cc9874367ae4206d642b608d6",
       "version_major": 2,
       "version_minor": 0
      },
      "text/plain": [
       "Downloading:   0%|          |"
      ]
     },
     "metadata": {},
     "output_type": "display_data"
    },
    {
     "data": {
      "text/html": [
       "<div>\n",
       "<style scoped>\n",
       "    .dataframe tbody tr th:only-of-type {\n",
       "        vertical-align: middle;\n",
       "    }\n",
       "\n",
       "    .dataframe tbody tr th {\n",
       "        vertical-align: top;\n",
       "    }\n",
       "\n",
       "    .dataframe thead th {\n",
       "        text-align: right;\n",
       "    }\n",
       "</style>\n",
       "<table border=\"1\" class=\"dataframe\">\n",
       "  <thead>\n",
       "    <tr style=\"text-align: right;\">\n",
       "      <th></th>\n",
       "      <th>tconst</th>\n",
       "      <th>primaryTitle</th>\n",
       "      <th>startYear</th>\n",
       "      <th>region</th>\n",
       "      <th>averageRating</th>\n",
       "      <th>numVotes</th>\n",
       "    </tr>\n",
       "  </thead>\n",
       "  <tbody>\n",
       "    <tr>\n",
       "      <th>0</th>\n",
       "      <td>tt0443361</td>\n",
       "      <td>Con</td>\n",
       "      <td>2005</td>\n",
       "      <td>US</td>\n",
       "      <td>4.7</td>\n",
       "      <td>314</td>\n",
       "    </tr>\n",
       "    <tr>\n",
       "      <th>1</th>\n",
       "      <td>tt7236776</td>\n",
       "      <td>Dani &amp; Flo</td>\n",
       "      <td>2017</td>\n",
       "      <td>ES</td>\n",
       "      <td>3.6</td>\n",
       "      <td>19</td>\n",
       "    </tr>\n",
       "    <tr>\n",
       "      <th>2</th>\n",
       "      <td>tt0065343</td>\n",
       "      <td>San Francisco International Airport</td>\n",
       "      <td>1970</td>\n",
       "      <td>US</td>\n",
       "      <td>2.6</td>\n",
       "      <td>154</td>\n",
       "    </tr>\n",
       "    <tr>\n",
       "      <th>3</th>\n",
       "      <td>tt0368494</td>\n",
       "      <td>Fame</td>\n",
       "      <td>2003</td>\n",
       "      <td>US</td>\n",
       "      <td>3.1</td>\n",
       "      <td>28</td>\n",
       "    </tr>\n",
       "    <tr>\n",
       "      <th>4</th>\n",
       "      <td>tt12354316</td>\n",
       "      <td>Group</td>\n",
       "      <td>2020</td>\n",
       "      <td>PH</td>\n",
       "      <td>9.1</td>\n",
       "      <td>36</td>\n",
       "    </tr>\n",
       "    <tr>\n",
       "      <th>...</th>\n",
       "      <td>...</td>\n",
       "      <td>...</td>\n",
       "      <td>...</td>\n",
       "      <td>...</td>\n",
       "      <td>...</td>\n",
       "      <td>...</td>\n",
       "    </tr>\n",
       "    <tr>\n",
       "      <th>55674</th>\n",
       "      <td>tt2720708</td>\n",
       "      <td>Ainak Wala Jin</td>\n",
       "      <td>1993</td>\n",
       "      <td>IN</td>\n",
       "      <td>8.9</td>\n",
       "      <td>200</td>\n",
       "    </tr>\n",
       "    <tr>\n",
       "      <th>55675</th>\n",
       "      <td>tt0233810</td>\n",
       "      <td>Der goldene Schuß</td>\n",
       "      <td>1964</td>\n",
       "      <td>XWG</td>\n",
       "      <td>8.9</td>\n",
       "      <td>47</td>\n",
       "    </tr>\n",
       "    <tr>\n",
       "      <th>55676</th>\n",
       "      <td>tt0803091</td>\n",
       "      <td>Trailer Court Justice</td>\n",
       "      <td>2006</td>\n",
       "      <td>US</td>\n",
       "      <td>8.9</td>\n",
       "      <td>10</td>\n",
       "    </tr>\n",
       "    <tr>\n",
       "      <th>55677</th>\n",
       "      <td>tt0831187</td>\n",
       "      <td>La légende des sciences</td>\n",
       "      <td>1997</td>\n",
       "      <td>FR</td>\n",
       "      <td>8.9</td>\n",
       "      <td>9</td>\n",
       "    </tr>\n",
       "    <tr>\n",
       "      <th>55678</th>\n",
       "      <td>tt5057138</td>\n",
       "      <td>NASA's Greatest Missions</td>\n",
       "      <td>2008</td>\n",
       "      <td>US</td>\n",
       "      <td>8.9</td>\n",
       "      <td>11</td>\n",
       "    </tr>\n",
       "  </tbody>\n",
       "</table>\n",
       "<p>55679 rows × 6 columns</p>\n",
       "</div>"
      ],
      "text/plain": [
       "           tconst                         primaryTitle startYear region  \\\n",
       "0       tt0443361                                  Con      2005     US   \n",
       "1       tt7236776                           Dani & Flo      2017     ES   \n",
       "2       tt0065343  San Francisco International Airport      1970     US   \n",
       "3       tt0368494                                 Fame      2003     US   \n",
       "4      tt12354316                                Group      2020     PH   \n",
       "...           ...                                  ...       ...    ...   \n",
       "55674   tt2720708                       Ainak Wala Jin      1993     IN   \n",
       "55675   tt0233810                    Der goldene Schuß      1964    XWG   \n",
       "55676   tt0803091                Trailer Court Justice      2006     US   \n",
       "55677   tt0831187              La légende des sciences      1997     FR   \n",
       "55678   tt5057138             NASA's Greatest Missions      2008     US   \n",
       "\n",
       "       averageRating  numVotes  \n",
       "0                4.7       314  \n",
       "1                3.6        19  \n",
       "2                2.6       154  \n",
       "3                3.1        28  \n",
       "4                9.1        36  \n",
       "...              ...       ...  \n",
       "55674            8.9       200  \n",
       "55675            8.9        47  \n",
       "55676            8.9        10  \n",
       "55677            8.9         9  \n",
       "55678            8.9        11  \n",
       "\n",
       "[55679 rows x 6 columns]"
      ]
     },
     "execution_count": 10,
     "metadata": {},
     "output_type": "execute_result"
    }
   ],
   "source": [
    "%%bigquery\n",
    "CREATE OR REPLACE VIEW `imdb_non_commercial_datasets_11_11.region_rat_pop` AS\n",
    "WITH series AS\n",
    "(SELECT * FROM `ba775team08.imdb_non_commercial_datasets_11_11.title_basic_Tvseries_Tvminiseries_Tvepisodes` \n",
    "WHERE titleType = 'tvSeries'\n",
    "AND startYear not like '%\\\\\\\\%'),\n",
    "region AS\n",
    "(SELECT * FROM `ba775team08.imdb_non_commercial_datasets_11_11.title_akas_new`\n",
    "WHERE region NOT LIKE '%\\\\\\\\%'\n",
    "AND ordering = 2),\n",
    "rating AS\n",
    "(SELECT * FROM `ba775team08.imdb_non_commercial_datasets_11_11.title_ratings`)\n",
    "\n",
    "SELECT A.tconst, A.primaryTitle, A.startYear, B.region, C.averageRating, c.numVotes\n",
    "FROM series A\n",
    "INNER JOIN region B\n",
    "ON A.tconst = B.titleId\n",
    "INNER JOIN rating C\n",
    "ON A.tconst = C.tconst;\n",
    "\n",
    "SELECT * from `imdb_non_commercial_datasets_11_11.region_rat_pop`"
   ]
  },
  {
   "cell_type": "markdown",
   "id": "caa42b58-b204-4560-8076-ec2f342cdb80",
   "metadata": {},
   "source": [
    "**The above SQL query creates a view with all TV Series since the year 2000, along with their region (for regional analysis), IMDB rating, number of votes (proxy for popularity), and start year.**"
   ]
  },
  {
   "cell_type": "markdown",
   "id": "0b6b71ba-321c-4a76-acb7-0daebbbd0eb5",
   "metadata": {
    "tags": []
   },
   "source": [
    "#### Top 5 by  Popularity (numVotes) - Since 2000"
   ]
  },
  {
   "cell_type": "code",
   "execution_count": 13,
   "id": "2885194d-01ea-4833-a6c1-e62b29a06fb7",
   "metadata": {
    "tags": []
   },
   "outputs": [
    {
     "data": {
      "application/vnd.jupyter.widget-view+json": {
       "model_id": "3a5f2680d4c3426396da2e035274f41d",
       "version_major": 2,
       "version_minor": 0
      },
      "text/plain": [
       "Query is running:   0%|          |"
      ]
     },
     "metadata": {},
     "output_type": "display_data"
    },
    {
     "data": {
      "application/vnd.jupyter.widget-view+json": {
       "model_id": "35fb62b809b94d31b65840464e080cc1",
       "version_major": 2,
       "version_minor": 0
      },
      "text/plain": [
       "Downloading:   0%|          |"
      ]
     },
     "metadata": {},
     "output_type": "display_data"
    },
    {
     "data": {
      "text/html": [
       "<div>\n",
       "<style scoped>\n",
       "    .dataframe tbody tr th:only-of-type {\n",
       "        vertical-align: middle;\n",
       "    }\n",
       "\n",
       "    .dataframe tbody tr th {\n",
       "        vertical-align: top;\n",
       "    }\n",
       "\n",
       "    .dataframe thead th {\n",
       "        text-align: right;\n",
       "    }\n",
       "</style>\n",
       "<table border=\"1\" class=\"dataframe\">\n",
       "  <thead>\n",
       "    <tr style=\"text-align: right;\">\n",
       "      <th></th>\n",
       "      <th>region</th>\n",
       "      <th>total_votes</th>\n",
       "    </tr>\n",
       "  </thead>\n",
       "  <tbody>\n",
       "    <tr>\n",
       "      <th>0</th>\n",
       "      <td>IN</td>\n",
       "      <td>6996092</td>\n",
       "    </tr>\n",
       "    <tr>\n",
       "      <th>1</th>\n",
       "      <td>US</td>\n",
       "      <td>6838931</td>\n",
       "    </tr>\n",
       "    <tr>\n",
       "      <th>2</th>\n",
       "      <td>CA</td>\n",
       "      <td>6540746</td>\n",
       "    </tr>\n",
       "    <tr>\n",
       "      <th>3</th>\n",
       "      <td>GB</td>\n",
       "      <td>4607874</td>\n",
       "    </tr>\n",
       "    <tr>\n",
       "      <th>4</th>\n",
       "      <td>PL</td>\n",
       "      <td>4257316</td>\n",
       "    </tr>\n",
       "  </tbody>\n",
       "</table>\n",
       "</div>"
      ],
      "text/plain": [
       "  region  total_votes\n",
       "0     IN      6996092\n",
       "1     US      6838931\n",
       "2     CA      6540746\n",
       "3     GB      4607874\n",
       "4     PL      4257316"
      ]
     },
     "execution_count": 13,
     "metadata": {},
     "output_type": "execute_result"
    }
   ],
   "source": [
    "%%bigquery\n",
    "SELECT region, SUM(numVotes) total_votes FROM `imdb_non_commercial_datasets_11_11.region_rat_pop`\n",
    "WHERE startYear LIKE '20%' \n",
    "GROUP BY region\n",
    "ORDER BY total_votes DESC\n",
    "LIMIT 5;"
   ]
  },
  {
   "cell_type": "markdown",
   "id": "dcaec586-fe1f-4c5b-95fb-0739e68ea9de",
   "metadata": {},
   "source": [
    "**India, USA, Canada, Great Britain and Poland produce the most popular TV Shows, with shows from these regions receiving an aggregate of 4-7 million in votes each from IMDB users.**"
   ]
  },
  {
   "cell_type": "markdown",
   "id": "11288e52-6125-45db-923a-4d7cbf173ba7",
   "metadata": {},
   "source": [
    "#### Top 5 -  Average Rating - Since 2000"
   ]
  },
  {
   "cell_type": "code",
   "execution_count": 43,
   "id": "d156230a-8904-4df6-9737-99da92832cc5",
   "metadata": {
    "tags": []
   },
   "outputs": [
    {
     "data": {
      "application/vnd.jupyter.widget-view+json": {
       "model_id": "04bfc1c292c4457a83888cd62fad5d3c",
       "version_major": 2,
       "version_minor": 0
      },
      "text/plain": [
       "Query is running:   0%|          |"
      ]
     },
     "metadata": {},
     "output_type": "display_data"
    },
    {
     "data": {
      "application/vnd.jupyter.widget-view+json": {
       "model_id": "e4602b8d23c44ea0bbfedf416a9f57e6",
       "version_major": 2,
       "version_minor": 0
      },
      "text/plain": [
       "Downloading:   0%|          |"
      ]
     },
     "metadata": {},
     "output_type": "display_data"
    },
    {
     "data": {
      "text/html": [
       "<div>\n",
       "<style scoped>\n",
       "    .dataframe tbody tr th:only-of-type {\n",
       "        vertical-align: middle;\n",
       "    }\n",
       "\n",
       "    .dataframe tbody tr th {\n",
       "        vertical-align: top;\n",
       "    }\n",
       "\n",
       "    .dataframe thead th {\n",
       "        text-align: right;\n",
       "    }\n",
       "</style>\n",
       "<table border=\"1\" class=\"dataframe\">\n",
       "  <thead>\n",
       "    <tr style=\"text-align: right;\">\n",
       "      <th></th>\n",
       "      <th>region</th>\n",
       "      <th>agg_avg_rating</th>\n",
       "    </tr>\n",
       "  </thead>\n",
       "  <tbody>\n",
       "    <tr>\n",
       "      <th>0</th>\n",
       "      <td>MK</td>\n",
       "      <td>7.953846</td>\n",
       "    </tr>\n",
       "    <tr>\n",
       "      <th>1</th>\n",
       "      <td>LV</td>\n",
       "      <td>7.600000</td>\n",
       "    </tr>\n",
       "    <tr>\n",
       "      <th>2</th>\n",
       "      <td>BA</td>\n",
       "      <td>7.566667</td>\n",
       "    </tr>\n",
       "    <tr>\n",
       "      <th>3</th>\n",
       "      <td>BY</td>\n",
       "      <td>7.385714</td>\n",
       "    </tr>\n",
       "    <tr>\n",
       "      <th>4</th>\n",
       "      <td>SI</td>\n",
       "      <td>7.368571</td>\n",
       "    </tr>\n",
       "  </tbody>\n",
       "</table>\n",
       "</div>"
      ],
      "text/plain": [
       "  region  agg_avg_rating\n",
       "0     MK        7.953846\n",
       "1     LV        7.600000\n",
       "2     BA        7.566667\n",
       "3     BY        7.385714\n",
       "4     SI        7.368571"
      ]
     },
     "execution_count": 43,
     "metadata": {},
     "output_type": "execute_result"
    }
   ],
   "source": [
    "%%bigquery\n",
    "SELECT region, AVG(averageRating) agg_avg_rating FROM `imdb_non_commercial_datasets_11_11.region_rat_pop`\n",
    "WHERE startYear LIKE '20%' \n",
    "GROUP BY region\n",
    "HAVING SUM(numVotes) > 100000\n",
    "ORDER BY agg_avg_rating DESC\n",
    "LIMIT 5;"
   ]
  },
  {
   "cell_type": "markdown",
   "id": "4c7e5197-b3db-4a4d-912b-00351de7c099",
   "metadata": {},
   "source": [
    "**Smaller countries, such as Macedonia, Belarus and Slovenia seem to have the highest rated TV shows. This is likely due to the small number of shows produced there receiving high ratings from local viewers.**"
   ]
  },
  {
   "cell_type": "markdown",
   "id": "2c92acd5-7216-4951-b7cb-6452e23396e6",
   "metadata": {},
   "source": [
    "#### Findings:\n",
    "\n",
    "* English is a major language in 4 out of the Top 5 regions by popularity. The dominance of english-language media in the movie industry is reflected in the television industry as well.\n",
    "\n",
    "* High popularity does not equal high ratings. The Top 5 regions by popularity and the Top 5 by ratings have no overlap. Shows from niche regions tend to be higher rated, possibly because these markets have smaller, but more dedicated audiences that lead to inflated ratings compared to their peers from larger regions."
   ]
  },
  {
   "cell_type": "markdown",
   "id": "63e371a2-fe83-4f25-8c7a-869380a04907",
   "metadata": {
    "tags": []
   },
   "source": [
    "### Question 2. Which shows are the highest rated since 2000?"
   ]
  },
  {
   "cell_type": "code",
   "execution_count": 44,
   "id": "8d01d595-55f4-44f0-898d-f0942993a72d",
   "metadata": {
    "tags": []
   },
   "outputs": [
    {
     "data": {
      "application/vnd.jupyter.widget-view+json": {
       "model_id": "40163001087f434da3c7543e0b082eeb",
       "version_major": 2,
       "version_minor": 0
      },
      "text/plain": [
       "Query is running:   0%|          |"
      ]
     },
     "metadata": {},
     "output_type": "display_data"
    },
    {
     "data": {
      "application/vnd.jupyter.widget-view+json": {
       "model_id": "16dc6e39f02a4f6d954294efcba60eb6",
       "version_major": 2,
       "version_minor": 0
      },
      "text/plain": [
       "Downloading:   0%|          |"
      ]
     },
     "metadata": {},
     "output_type": "display_data"
    },
    {
     "data": {
      "text/html": [
       "<div>\n",
       "<style scoped>\n",
       "    .dataframe tbody tr th:only-of-type {\n",
       "        vertical-align: middle;\n",
       "    }\n",
       "\n",
       "    .dataframe tbody tr th {\n",
       "        vertical-align: top;\n",
       "    }\n",
       "\n",
       "    .dataframe thead th {\n",
       "        text-align: right;\n",
       "    }\n",
       "</style>\n",
       "<table border=\"1\" class=\"dataframe\">\n",
       "  <thead>\n",
       "    <tr style=\"text-align: right;\">\n",
       "      <th></th>\n",
       "      <th>titleType</th>\n",
       "      <th>primaryTitle</th>\n",
       "      <th>startYear</th>\n",
       "      <th>endYear</th>\n",
       "      <th>genres</th>\n",
       "      <th>averageRating</th>\n",
       "      <th>numVotes</th>\n",
       "    </tr>\n",
       "  </thead>\n",
       "  <tbody>\n",
       "    <tr>\n",
       "      <th>0</th>\n",
       "      <td>tvSeries</td>\n",
       "      <td>Breaking Bad</td>\n",
       "      <td>2008</td>\n",
       "      <td>2013</td>\n",
       "      <td>Crime,Drama,Thriller</td>\n",
       "      <td>9.5</td>\n",
       "      <td>2060194</td>\n",
       "    </tr>\n",
       "    <tr>\n",
       "      <th>1</th>\n",
       "      <td>tvSeries</td>\n",
       "      <td>The Wire</td>\n",
       "      <td>2002</td>\n",
       "      <td>2008</td>\n",
       "      <td>Crime,Drama,Thriller</td>\n",
       "      <td>9.3</td>\n",
       "      <td>364872</td>\n",
       "    </tr>\n",
       "    <tr>\n",
       "      <th>2</th>\n",
       "      <td>tvSeries</td>\n",
       "      <td>Avatar: The Last Airbender</td>\n",
       "      <td>2005</td>\n",
       "      <td>2008</td>\n",
       "      <td>Action,Adventure,Animation</td>\n",
       "      <td>9.3</td>\n",
       "      <td>346805</td>\n",
       "    </tr>\n",
       "    <tr>\n",
       "      <th>3</th>\n",
       "      <td>tvSeries</td>\n",
       "      <td>Aspirants</td>\n",
       "      <td>2021</td>\n",
       "      <td>\\N</td>\n",
       "      <td>Drama</td>\n",
       "      <td>9.2</td>\n",
       "      <td>306603</td>\n",
       "    </tr>\n",
       "    <tr>\n",
       "      <th>4</th>\n",
       "      <td>tvSeries</td>\n",
       "      <td>Game of Thrones</td>\n",
       "      <td>2011</td>\n",
       "      <td>2019</td>\n",
       "      <td>Action,Adventure,Drama</td>\n",
       "      <td>9.2</td>\n",
       "      <td>2221092</td>\n",
       "    </tr>\n",
       "    <tr>\n",
       "      <th>5</th>\n",
       "      <td>tvSeries</td>\n",
       "      <td>Fullmetal Alchemist: Brotherhood</td>\n",
       "      <td>2009</td>\n",
       "      <td>2010</td>\n",
       "      <td>Action,Adventure,Animation</td>\n",
       "      <td>9.1</td>\n",
       "      <td>189130</td>\n",
       "    </tr>\n",
       "    <tr>\n",
       "      <th>6</th>\n",
       "      <td>tvSeries</td>\n",
       "      <td>Sherlock</td>\n",
       "      <td>2010</td>\n",
       "      <td>2017</td>\n",
       "      <td>Crime,Drama,Mystery</td>\n",
       "      <td>9.1</td>\n",
       "      <td>973109</td>\n",
       "    </tr>\n",
       "    <tr>\n",
       "      <th>7</th>\n",
       "      <td>tvSeries</td>\n",
       "      <td>Attack on Titan</td>\n",
       "      <td>2013</td>\n",
       "      <td>2023</td>\n",
       "      <td>Action,Adventure,Animation</td>\n",
       "      <td>9.1</td>\n",
       "      <td>464970</td>\n",
       "    </tr>\n",
       "    <tr>\n",
       "      <th>8</th>\n",
       "      <td>tvSeries</td>\n",
       "      <td>Rick and Morty</td>\n",
       "      <td>2013</td>\n",
       "      <td>\\N</td>\n",
       "      <td>Adventure,Animation,Comedy</td>\n",
       "      <td>9.1</td>\n",
       "      <td>575993</td>\n",
       "    </tr>\n",
       "    <tr>\n",
       "      <th>9</th>\n",
       "      <td>tvSeries</td>\n",
       "      <td>Better Call Saul</td>\n",
       "      <td>2015</td>\n",
       "      <td>2022</td>\n",
       "      <td>Crime,Drama</td>\n",
       "      <td>9.0</td>\n",
       "      <td>614809</td>\n",
       "    </tr>\n",
       "    <tr>\n",
       "      <th>10</th>\n",
       "      <td>tvSeries</td>\n",
       "      <td>The Office</td>\n",
       "      <td>2005</td>\n",
       "      <td>2013</td>\n",
       "      <td>Comedy</td>\n",
       "      <td>9.0</td>\n",
       "      <td>675872</td>\n",
       "    </tr>\n",
       "    <tr>\n",
       "      <th>11</th>\n",
       "      <td>tvSeries</td>\n",
       "      <td>Firefly</td>\n",
       "      <td>2002</td>\n",
       "      <td>2003</td>\n",
       "      <td>Adventure,Drama,Sci-Fi</td>\n",
       "      <td>9.0</td>\n",
       "      <td>276832</td>\n",
       "    </tr>\n",
       "    <tr>\n",
       "      <th>12</th>\n",
       "      <td>tvSeries</td>\n",
       "      <td>Arcane</td>\n",
       "      <td>2021</td>\n",
       "      <td>\\N</td>\n",
       "      <td>Action,Adventure,Animation</td>\n",
       "      <td>9.0</td>\n",
       "      <td>248577</td>\n",
       "    </tr>\n",
       "    <tr>\n",
       "      <th>13</th>\n",
       "      <td>tvSeries</td>\n",
       "      <td>Hunter x Hunter</td>\n",
       "      <td>2011</td>\n",
       "      <td>2014</td>\n",
       "      <td>Action,Adventure,Animation</td>\n",
       "      <td>9.0</td>\n",
       "      <td>123844</td>\n",
       "    </tr>\n",
       "    <tr>\n",
       "      <th>14</th>\n",
       "      <td>tvSeries</td>\n",
       "      <td>True Detective</td>\n",
       "      <td>2014</td>\n",
       "      <td>\\N</td>\n",
       "      <td>Crime,Drama,Mystery</td>\n",
       "      <td>8.9</td>\n",
       "      <td>614164</td>\n",
       "    </tr>\n",
       "    <tr>\n",
       "      <th>15</th>\n",
       "      <td>tvSeries</td>\n",
       "      <td>Succession</td>\n",
       "      <td>2018</td>\n",
       "      <td>2023</td>\n",
       "      <td>Comedy,Drama</td>\n",
       "      <td>8.9</td>\n",
       "      <td>243403</td>\n",
       "    </tr>\n",
       "    <tr>\n",
       "      <th>16</th>\n",
       "      <td>tvSeries</td>\n",
       "      <td>Gravity Falls</td>\n",
       "      <td>2012</td>\n",
       "      <td>2016</td>\n",
       "      <td>Adventure,Animation,Comedy</td>\n",
       "      <td>8.9</td>\n",
       "      <td>127520</td>\n",
       "    </tr>\n",
       "    <tr>\n",
       "      <th>17</th>\n",
       "      <td>tvSeries</td>\n",
       "      <td>Death Note</td>\n",
       "      <td>2006</td>\n",
       "      <td>2007</td>\n",
       "      <td>Animation,Crime,Drama</td>\n",
       "      <td>8.9</td>\n",
       "      <td>361422</td>\n",
       "    </tr>\n",
       "    <tr>\n",
       "      <th>18</th>\n",
       "      <td>tvSeries</td>\n",
       "      <td>Fargo</td>\n",
       "      <td>2014</td>\n",
       "      <td>2024</td>\n",
       "      <td>Crime,Drama,Thriller</td>\n",
       "      <td>8.9</td>\n",
       "      <td>392284</td>\n",
       "    </tr>\n",
       "    <tr>\n",
       "      <th>19</th>\n",
       "      <td>tvSeries</td>\n",
       "      <td>Dhindora</td>\n",
       "      <td>2021</td>\n",
       "      <td>\\N</td>\n",
       "      <td>Comedy,Drama</td>\n",
       "      <td>8.8</td>\n",
       "      <td>121221</td>\n",
       "    </tr>\n",
       "  </tbody>\n",
       "</table>\n",
       "</div>"
      ],
      "text/plain": [
       "   titleType                      primaryTitle startYear endYear  \\\n",
       "0   tvSeries                      Breaking Bad      2008    2013   \n",
       "1   tvSeries                          The Wire      2002    2008   \n",
       "2   tvSeries        Avatar: The Last Airbender      2005    2008   \n",
       "3   tvSeries                         Aspirants      2021      \\N   \n",
       "4   tvSeries                   Game of Thrones      2011    2019   \n",
       "5   tvSeries  Fullmetal Alchemist: Brotherhood      2009    2010   \n",
       "6   tvSeries                          Sherlock      2010    2017   \n",
       "7   tvSeries                   Attack on Titan      2013    2023   \n",
       "8   tvSeries                    Rick and Morty      2013      \\N   \n",
       "9   tvSeries                  Better Call Saul      2015    2022   \n",
       "10  tvSeries                        The Office      2005    2013   \n",
       "11  tvSeries                           Firefly      2002    2003   \n",
       "12  tvSeries                            Arcane      2021      \\N   \n",
       "13  tvSeries                   Hunter x Hunter      2011    2014   \n",
       "14  tvSeries                    True Detective      2014      \\N   \n",
       "15  tvSeries                        Succession      2018    2023   \n",
       "16  tvSeries                     Gravity Falls      2012    2016   \n",
       "17  tvSeries                        Death Note      2006    2007   \n",
       "18  tvSeries                             Fargo      2014    2024   \n",
       "19  tvSeries                          Dhindora      2021      \\N   \n",
       "\n",
       "                        genres  averageRating  numVotes  \n",
       "0         Crime,Drama,Thriller            9.5   2060194  \n",
       "1         Crime,Drama,Thriller            9.3    364872  \n",
       "2   Action,Adventure,Animation            9.3    346805  \n",
       "3                        Drama            9.2    306603  \n",
       "4       Action,Adventure,Drama            9.2   2221092  \n",
       "5   Action,Adventure,Animation            9.1    189130  \n",
       "6          Crime,Drama,Mystery            9.1    973109  \n",
       "7   Action,Adventure,Animation            9.1    464970  \n",
       "8   Adventure,Animation,Comedy            9.1    575993  \n",
       "9                  Crime,Drama            9.0    614809  \n",
       "10                      Comedy            9.0    675872  \n",
       "11      Adventure,Drama,Sci-Fi            9.0    276832  \n",
       "12  Action,Adventure,Animation            9.0    248577  \n",
       "13  Action,Adventure,Animation            9.0    123844  \n",
       "14         Crime,Drama,Mystery            8.9    614164  \n",
       "15                Comedy,Drama            8.9    243403  \n",
       "16  Adventure,Animation,Comedy            8.9    127520  \n",
       "17       Animation,Crime,Drama            8.9    361422  \n",
       "18        Crime,Drama,Thriller            8.9    392284  \n",
       "19                Comedy,Drama            8.8    121221  "
      ]
     },
     "execution_count": 44,
     "metadata": {},
     "output_type": "execute_result"
    }
   ],
   "source": [
    "%%bigquery\n",
    "SELECT titleType, primaryTitle, startYear, endYear, genres, averageRating, numVotes\n",
    "FROM `ba775team08.imdb_non_commercial_datasets_11_11.title_basics` AS A\n",
    "LEFT JOIN `ba775team08.imdb_non_commercial_datasets_11_11.title_ratings` AS B\n",
    "on A.tconst = B.tconst\n",
    "WHERE B.averageRating is not NULL \n",
    "    and titleType = 'tvSeries' \n",
    "    and numVotes > 100000\n",
    "    and startYear LIKE '20%'\n",
    "order by averageRating desc\n",
    "limit 20\n",
    ";"
   ]
  },
  {
   "cell_type": "markdown",
   "id": "22b8ceb0-fbce-4bea-9b24-6077a9c05a97",
   "metadata": {},
   "source": [
    "#### Findings:\n",
    "\n",
    "* High Genre Diversity:\n",
    "The top 20 list of highest-rated TV shows consists of Action, Adventure, Drama, Crime and Animation genres, reflecting a diverse range of themes and storytelling.\n",
    "\n",
    "* Significant Presence of Animated Shows:\n",
    "A notable observation is that 40% of the TV shows in the Top 20 list are animated. This demonstrates the increasing popularity and appeal of animated content among viewers.\n",
    "\n",
    "* Exclusive English Language Content:\n",
    "All TV shows listed in the Top 20 are exclusively in the English language. This indicates a strong preference or recognition for English-language productions in terms of quality and viewership.\n",
    "\n",
    "* Comprehensive Ratings and Popularity:\n",
    "Alongside genre and language, the list provides insights into each show's start and end years, total runtime, average rating, and number of votes. The high number of votes serves as a proxy for the show's popularity among audiences."
   ]
  },
  {
   "cell_type": "markdown",
   "id": "c31fdd6e-7a65-408e-8041-1f5ca48afe06",
   "metadata": {},
   "source": [
    "<br>"
   ]
  },
  {
   "cell_type": "markdown",
   "id": "e012ca7f-c077-42df-b11c-bf69b642b7de",
   "metadata": {
    "tags": []
   },
   "source": [
    "### Question 3. Which genre is the most popular?"
   ]
  },
  {
   "cell_type": "code",
   "execution_count": 8,
   "id": "11b7e8cd-6736-4119-8c0e-f292bc738876",
   "metadata": {
    "tags": []
   },
   "outputs": [
    {
     "data": {
      "application/vnd.jupyter.widget-view+json": {
       "model_id": "3e6c287d96c142a89df57ef9218ccf0f",
       "version_major": 2,
       "version_minor": 0
      },
      "text/plain": [
       "Query is running:   0%|          |"
      ]
     },
     "metadata": {},
     "output_type": "display_data"
    },
    {
     "data": {
      "application/vnd.jupyter.widget-view+json": {
       "model_id": "b45f63d397644eb89d0ebc5cb93471ef",
       "version_major": 2,
       "version_minor": 0
      },
      "text/plain": [
       "Downloading:   0%|          |"
      ]
     },
     "metadata": {},
     "output_type": "display_data"
    },
    {
     "data": {
      "text/html": [
       "<div>\n",
       "<style scoped>\n",
       "    .dataframe tbody tr th:only-of-type {\n",
       "        vertical-align: middle;\n",
       "    }\n",
       "\n",
       "    .dataframe tbody tr th {\n",
       "        vertical-align: top;\n",
       "    }\n",
       "\n",
       "    .dataframe thead th {\n",
       "        text-align: right;\n",
       "    }\n",
       "</style>\n",
       "<table border=\"1\" class=\"dataframe\">\n",
       "  <thead>\n",
       "    <tr style=\"text-align: right;\">\n",
       "      <th></th>\n",
       "      <th>genres</th>\n",
       "      <th>titleCount</th>\n",
       "    </tr>\n",
       "  </thead>\n",
       "  <tbody>\n",
       "    <tr>\n",
       "      <th>0</th>\n",
       "      <td>Comedy</td>\n",
       "      <td>9719</td>\n",
       "    </tr>\n",
       "    <tr>\n",
       "      <th>1</th>\n",
       "      <td>Reality-TV</td>\n",
       "      <td>6679</td>\n",
       "    </tr>\n",
       "    <tr>\n",
       "      <th>2</th>\n",
       "      <td>Drama</td>\n",
       "      <td>6614</td>\n",
       "    </tr>\n",
       "    <tr>\n",
       "      <th>3</th>\n",
       "      <td>Documentary</td>\n",
       "      <td>5661</td>\n",
       "    </tr>\n",
       "    <tr>\n",
       "      <th>4</th>\n",
       "      <td>Talk-Show</td>\n",
       "      <td>2212</td>\n",
       "    </tr>\n",
       "    <tr>\n",
       "      <th>5</th>\n",
       "      <td>Drama,Romance</td>\n",
       "      <td>1500</td>\n",
       "    </tr>\n",
       "    <tr>\n",
       "      <th>6</th>\n",
       "      <td>Comedy,Drama</td>\n",
       "      <td>1346</td>\n",
       "    </tr>\n",
       "    <tr>\n",
       "      <th>7</th>\n",
       "      <td>Game-Show</td>\n",
       "      <td>1182</td>\n",
       "    </tr>\n",
       "    <tr>\n",
       "      <th>8</th>\n",
       "      <td>Animation</td>\n",
       "      <td>1179</td>\n",
       "    </tr>\n",
       "    <tr>\n",
       "      <th>9</th>\n",
       "      <td>Family</td>\n",
       "      <td>980</td>\n",
       "    </tr>\n",
       "  </tbody>\n",
       "</table>\n",
       "</div>"
      ],
      "text/plain": [
       "          genres  titleCount\n",
       "0         Comedy        9719\n",
       "1     Reality-TV        6679\n",
       "2          Drama        6614\n",
       "3    Documentary        5661\n",
       "4      Talk-Show        2212\n",
       "5  Drama,Romance        1500\n",
       "6   Comedy,Drama        1346\n",
       "7      Game-Show        1182\n",
       "8      Animation        1179\n",
       "9         Family         980"
      ]
     },
     "execution_count": 8,
     "metadata": {},
     "output_type": "execute_result"
    }
   ],
   "source": [
    "%%bigquery\n",
    "SELECT\n",
    "  basics.genres,\n",
    "  COUNT(ratings.tconst) AS titleCount\n",
    "FROM\n",
    "  `ba775team08.imdb_non_commercial_datasets_11_11.title_basics` AS basics \n",
    "INNER JOIN\n",
    "  `ba775team08.imdb_non_commercial_datasets_11_11.title_ratings` AS ratings ON basics.tconst = ratings.tconst\n",
    "WHERE\n",
    "  basics.startYear like '20%'\n",
    "  and basics.titleType = 'tvSeries'\n",
    "  and genres not like '%N'\n",
    "GROUP BY\n",
    "  basics.genres\n",
    "ORDER BY\n",
    "  titleCount desc limit 10"
   ]
  },
  {
   "cell_type": "markdown",
   "id": "deb4760c-f90a-4a03-aac4-05770f491dc5",
   "metadata": {
    "tags": []
   },
   "source": [
    "#### Findings:\n",
    "* **Pervasive Presence of 'Comedy' Category:**\n",
    "The analysis underscores that the 'Comedy' genre emerged as the most prevalent category across a wide spectrum of entertainment media available within the dataset. This also suggest its unversal appeal and cultural significance resonating strongly with viewers."
   ]
  },
  {
   "cell_type": "markdown",
   "id": "db5df050-45e0-48cd-ab99-d61d5dad4a86",
   "metadata": {},
   "source": [
    "<br>"
   ]
  },
  {
   "cell_type": "markdown",
   "id": "78c58a20-b29f-4e6a-bd78-e56eec439f12",
   "metadata": {
    "tags": []
   },
   "source": [
    "### Question 4. Which region produces the most shows?"
   ]
  },
  {
   "cell_type": "code",
   "execution_count": 101,
   "id": "75d75dea-9f19-46b5-9e52-88a2e090099f",
   "metadata": {
    "tags": []
   },
   "outputs": [
    {
     "data": {
      "application/vnd.jupyter.widget-view+json": {
       "model_id": "600e3fe15a404579bb788168dc5b8ced",
       "version_major": 2,
       "version_minor": 0
      },
      "text/plain": [
       "Query is running:   0%|          |"
      ]
     },
     "metadata": {},
     "output_type": "display_data"
    },
    {
     "data": {
      "application/vnd.jupyter.widget-view+json": {
       "model_id": "410c8a38303a467ab9855b26ce847b69",
       "version_major": 2,
       "version_minor": 0
      },
      "text/plain": [
       "Downloading:   0%|          |"
      ]
     },
     "metadata": {},
     "output_type": "display_data"
    },
    {
     "data": {
      "text/html": [
       "<div>\n",
       "<style scoped>\n",
       "    .dataframe tbody tr th:only-of-type {\n",
       "        vertical-align: middle;\n",
       "    }\n",
       "\n",
       "    .dataframe tbody tr th {\n",
       "        vertical-align: top;\n",
       "    }\n",
       "\n",
       "    .dataframe thead th {\n",
       "        text-align: right;\n",
       "    }\n",
       "</style>\n",
       "<table border=\"1\" class=\"dataframe\">\n",
       "  <thead>\n",
       "    <tr style=\"text-align: right;\">\n",
       "      <th></th>\n",
       "      <th>region</th>\n",
       "      <th>titleCount</th>\n",
       "    </tr>\n",
       "  </thead>\n",
       "  <tbody>\n",
       "    <tr>\n",
       "      <th>0</th>\n",
       "      <td>US</td>\n",
       "      <td>572789</td>\n",
       "    </tr>\n",
       "    <tr>\n",
       "      <th>1</th>\n",
       "      <td>GB</td>\n",
       "      <td>238383</td>\n",
       "    </tr>\n",
       "    <tr>\n",
       "      <th>2</th>\n",
       "      <td>DE</td>\n",
       "      <td>215339</td>\n",
       "    </tr>\n",
       "    <tr>\n",
       "      <th>3</th>\n",
       "      <td>FR</td>\n",
       "      <td>212212</td>\n",
       "    </tr>\n",
       "    <tr>\n",
       "      <th>4</th>\n",
       "      <td>JP</td>\n",
       "      <td>202537</td>\n",
       "    </tr>\n",
       "    <tr>\n",
       "      <th>5</th>\n",
       "      <td>ES</td>\n",
       "      <td>186162</td>\n",
       "    </tr>\n",
       "    <tr>\n",
       "      <th>6</th>\n",
       "      <td>IT</td>\n",
       "      <td>173630</td>\n",
       "    </tr>\n",
       "    <tr>\n",
       "      <th>7</th>\n",
       "      <td>CA</td>\n",
       "      <td>150147</td>\n",
       "    </tr>\n",
       "    <tr>\n",
       "      <th>8</th>\n",
       "      <td>PT</td>\n",
       "      <td>130420</td>\n",
       "    </tr>\n",
       "    <tr>\n",
       "      <th>9</th>\n",
       "      <td>XWW</td>\n",
       "      <td>115429</td>\n",
       "    </tr>\n",
       "  </tbody>\n",
       "</table>\n",
       "</div>"
      ],
      "text/plain": [
       "  region  titleCount\n",
       "0     US      572789\n",
       "1     GB      238383\n",
       "2     DE      215339\n",
       "3     FR      212212\n",
       "4     JP      202537\n",
       "5     ES      186162\n",
       "6     IT      173630\n",
       "7     CA      150147\n",
       "8     PT      130420\n",
       "9    XWW      115429"
      ]
     },
     "execution_count": 101,
     "metadata": {},
     "output_type": "execute_result"
    }
   ],
   "source": [
    "%%bigquery\n",
    "SELECT\n",
    "  akas.region,\n",
    "  COUNT(ratings.tconst) AS titleCount\n",
    "FROM\n",
    "  `ba775team08.imdb_non_commercial_datasets_11_11.title_akas` AS akas\n",
    "INNER JOIN\n",
    "  `ba775team08.imdb_non_commercial_datasets_11_11.title_ratings` AS ratings ON akas.titleId = ratings.tconst\n",
    "WHERE\n",
    "  akas.region NOT like '%N'\n",
    "GROUP BY\n",
    "  akas.region\n",
    "ORDER BY\n",
    "  titleCount DESC \n",
    "LIMIT 10\n",
    "\n"
   ]
  },
  {
   "cell_type": "markdown",
   "id": "156f28d6-7568-4cf3-9f92-68e76acf8254",
   "metadata": {},
   "source": [
    "#### Findings:\n",
    "* **Leading Producers of Entertainment Media:** \n",
    "The analysis distinctly identifies the United States as the primary producer of entertainment media. Following closely behind are Great Britain, Germany, and France, in that order.\n",
    "\n"
   ]
  },
  {
   "cell_type": "markdown",
   "id": "e7cc2dc5-f353-484c-b17d-7ee4b55fd2c5",
   "metadata": {
    "tags": []
   },
   "source": [
    "<br>"
   ]
  },
  {
   "cell_type": "markdown",
   "id": "e5444685-5a2c-49ee-b5bd-67d835871a3a",
   "metadata": {
    "tags": []
   },
   "source": [
    "### Question 5. What are the highest rated Episodes of all time and which shows do those episodes belong to?"
   ]
  },
  {
   "cell_type": "markdown",
   "id": "4cbe4727-bd8c-40d4-becd-1b748d461f8a",
   "metadata": {
    "tags": []
   },
   "source": [
    "#### Creating a view to simplify this query"
   ]
  },
  {
   "cell_type": "code",
   "execution_count": 17,
   "id": "c6d1b051-c7b0-4c3a-b7f1-4ab6f59466b4",
   "metadata": {
    "tags": []
   },
   "outputs": [
    {
     "data": {
      "application/vnd.jupyter.widget-view+json": {
       "model_id": "3826f50273e54f39ab0ce2dae1285ba0",
       "version_major": 2,
       "version_minor": 0
      },
      "text/plain": [
       "Query is running:   0%|          |"
      ]
     },
     "metadata": {},
     "output_type": "display_data"
    },
    {
     "data": {
      "text/html": [
       "<div>\n",
       "<style scoped>\n",
       "    .dataframe tbody tr th:only-of-type {\n",
       "        vertical-align: middle;\n",
       "    }\n",
       "\n",
       "    .dataframe tbody tr th {\n",
       "        vertical-align: top;\n",
       "    }\n",
       "\n",
       "    .dataframe thead th {\n",
       "        text-align: right;\n",
       "    }\n",
       "</style>\n",
       "<table border=\"1\" class=\"dataframe\">\n",
       "  <thead>\n",
       "    <tr style=\"text-align: right;\">\n",
       "      <th></th>\n",
       "    </tr>\n",
       "  </thead>\n",
       "  <tbody>\n",
       "  </tbody>\n",
       "</table>\n",
       "</div>"
      ],
      "text/plain": [
       "Empty DataFrame\n",
       "Columns: []\n",
       "Index: []"
      ]
     },
     "execution_count": 17,
     "metadata": {},
     "output_type": "execute_result"
    }
   ],
   "source": [
    "%%bigquery\n",
    "CREATE OR REPLACE VIEW `imdb_non_commercial_datasets_11_11.new_title_parentTconst` AS\n",
    "WITH pTconst AS (\n",
    "    SELECT episode.*, highest_rated.tconst AS rated_tconst, highest_rated.primaryTitle AS rated_primaryTitle, highest_rated.averageRating AS rated_averageRating, highest_rated.numVotes AS rated_numVotes, highest_rated.startYear AS rated_startYear, highest_rated.runtimeMinutes AS rated_runtimeMinutes, highest_rated.genres AS rated_genres, highest_rated.titleType AS rated_titleType\n",
    "    FROM `ba775team08.imdb_non_commercial_datasets_11_11.title_episode` AS episode\n",
    "    LEFT JOIN (\n",
    "        SELECT tconst, primaryTitle, averageRating, numVotes, startYear, runtimeMinutes, genres, titleType\n",
    "        FROM `ba775team08.imdb_non_commercial_datasets_11_11.title_ratings`\n",
    "        LEFT JOIN `ba775team08.imdb_non_commercial_datasets_11_11.title_basics`\n",
    "        USING (tconst)\n",
    "        WHERE CAST(numVotes AS FLOAT64) > 4000\n",
    "            AND runtimeMinutes != '\\\\N'\n",
    "            AND titleType = 'tvEpisode'\n",
    "            AND startYear > '2000'\n",
    "        ORDER BY averageRating DESC\n",
    "    ) AS highest_rated ON episode.tconst = highest_rated.tconst\n",
    "    WHERE highest_rated.averageRating IS NOT NULL\n",
    "    ORDER BY highest_rated.averageRating DESC\n",
    ")\n",
    "SELECT * FROM pTconst;\n"
   ]
  },
  {
   "cell_type": "code",
   "execution_count": 18,
   "id": "f8dc62e3-dcb3-427d-aa0d-e58831e654ee",
   "metadata": {
    "tags": []
   },
   "outputs": [
    {
     "data": {
      "application/vnd.jupyter.widget-view+json": {
       "model_id": "a33e3fc5f8cc4bdbad4151d61f42f343",
       "version_major": 2,
       "version_minor": 0
      },
      "text/plain": [
       "Query is running:   0%|          |"
      ]
     },
     "metadata": {},
     "output_type": "display_data"
    },
    {
     "data": {
      "application/vnd.jupyter.widget-view+json": {
       "model_id": "bd7ff62671b740448baf053497a055a7",
       "version_major": 2,
       "version_minor": 0
      },
      "text/plain": [
       "Downloading:   0%|          |"
      ]
     },
     "metadata": {},
     "output_type": "display_data"
    },
    {
     "data": {
      "text/html": [
       "<div>\n",
       "<style scoped>\n",
       "    .dataframe tbody tr th:only-of-type {\n",
       "        vertical-align: middle;\n",
       "    }\n",
       "\n",
       "    .dataframe tbody tr th {\n",
       "        vertical-align: top;\n",
       "    }\n",
       "\n",
       "    .dataframe thead th {\n",
       "        text-align: right;\n",
       "    }\n",
       "</style>\n",
       "<table border=\"1\" class=\"dataframe\">\n",
       "  <thead>\n",
       "    <tr style=\"text-align: right;\">\n",
       "      <th></th>\n",
       "      <th>primaryTitle</th>\n",
       "      <th>rated_primaryTitle</th>\n",
       "      <th>rated_averageRating</th>\n",
       "      <th>rated_numVotes</th>\n",
       "      <th>rated_runtimeMinutes</th>\n",
       "      <th>genres</th>\n",
       "    </tr>\n",
       "  </thead>\n",
       "  <tbody>\n",
       "    <tr>\n",
       "      <th>0</th>\n",
       "      <td>Breaking Bad</td>\n",
       "      <td>Ozymandias</td>\n",
       "      <td>10.0</td>\n",
       "      <td>208203</td>\n",
       "      <td>47</td>\n",
       "      <td>Crime,Drama,Thriller</td>\n",
       "    </tr>\n",
       "    <tr>\n",
       "      <th>1</th>\n",
       "      <td>Game of Thrones</td>\n",
       "      <td>Battle of the Bastards</td>\n",
       "      <td>9.9</td>\n",
       "      <td>220604</td>\n",
       "      <td>60</td>\n",
       "      <td>Action,Adventure,Drama</td>\n",
       "    </tr>\n",
       "    <tr>\n",
       "      <th>2</th>\n",
       "      <td>Game of Thrones</td>\n",
       "      <td>The Winds of Winter</td>\n",
       "      <td>9.9</td>\n",
       "      <td>157054</td>\n",
       "      <td>68</td>\n",
       "      <td>Action,Adventure,Drama</td>\n",
       "    </tr>\n",
       "    <tr>\n",
       "      <th>3</th>\n",
       "      <td>Breaking Bad</td>\n",
       "      <td>Felina</td>\n",
       "      <td>9.9</td>\n",
       "      <td>135029</td>\n",
       "      <td>55</td>\n",
       "      <td>Crime,Drama,Thriller</td>\n",
       "    </tr>\n",
       "    <tr>\n",
       "      <th>4</th>\n",
       "      <td>Game of Thrones</td>\n",
       "      <td>The Rains of Castamere</td>\n",
       "      <td>9.9</td>\n",
       "      <td>114663</td>\n",
       "      <td>51</td>\n",
       "      <td>Action,Adventure,Drama</td>\n",
       "    </tr>\n",
       "    <tr>\n",
       "      <th>5</th>\n",
       "      <td>Breaking Bad</td>\n",
       "      <td>Face Off</td>\n",
       "      <td>9.9</td>\n",
       "      <td>71877</td>\n",
       "      <td>50</td>\n",
       "      <td>Crime,Drama,Thriller</td>\n",
       "    </tr>\n",
       "    <tr>\n",
       "      <th>6</th>\n",
       "      <td>Better Call Saul</td>\n",
       "      <td>Plan and Execution</td>\n",
       "      <td>9.9</td>\n",
       "      <td>54213</td>\n",
       "      <td>50</td>\n",
       "      <td>Crime,Drama</td>\n",
       "    </tr>\n",
       "    <tr>\n",
       "      <th>7</th>\n",
       "      <td>Succession</td>\n",
       "      <td>Connor's Wedding</td>\n",
       "      <td>9.9</td>\n",
       "      <td>33682</td>\n",
       "      <td>62</td>\n",
       "      <td>Comedy,Drama</td>\n",
       "    </tr>\n",
       "    <tr>\n",
       "      <th>8</th>\n",
       "      <td>Mr. Robot</td>\n",
       "      <td>407 Proxy Authentication Required</td>\n",
       "      <td>9.9</td>\n",
       "      <td>33130</td>\n",
       "      <td>56</td>\n",
       "      <td>Crime,Drama,Thriller</td>\n",
       "    </tr>\n",
       "    <tr>\n",
       "      <th>9</th>\n",
       "      <td>BoJack Horseman</td>\n",
       "      <td>The View from Halfway Down</td>\n",
       "      <td>9.9</td>\n",
       "      <td>20131</td>\n",
       "      <td>26</td>\n",
       "      <td>Animation,Comedy,Drama</td>\n",
       "    </tr>\n",
       "    <tr>\n",
       "      <th>10</th>\n",
       "      <td>Star Wars: The Clone Wars</td>\n",
       "      <td>Victory and Death</td>\n",
       "      <td>9.9</td>\n",
       "      <td>17448</td>\n",
       "      <td>23</td>\n",
       "      <td>Action,Adventure,Animation</td>\n",
       "    </tr>\n",
       "    <tr>\n",
       "      <th>11</th>\n",
       "      <td>Vinland Saga</td>\n",
       "      <td>End of The Prologue</td>\n",
       "      <td>9.9</td>\n",
       "      <td>14935</td>\n",
       "      <td>24</td>\n",
       "      <td>Action,Adventure,Animation</td>\n",
       "    </tr>\n",
       "    <tr>\n",
       "      <th>12</th>\n",
       "      <td>Avatar: The Last Airbender</td>\n",
       "      <td>Sozin's Comet, Part 4: Avatar Aang</td>\n",
       "      <td>9.9</td>\n",
       "      <td>14600</td>\n",
       "      <td>21</td>\n",
       "      <td>Action,Adventure,Animation</td>\n",
       "    </tr>\n",
       "    <tr>\n",
       "      <th>13</th>\n",
       "      <td>Six Feet Under</td>\n",
       "      <td>Everyone's Waiting</td>\n",
       "      <td>9.9</td>\n",
       "      <td>11565</td>\n",
       "      <td>73</td>\n",
       "      <td>Comedy,Drama</td>\n",
       "    </tr>\n",
       "    <tr>\n",
       "      <th>14</th>\n",
       "      <td>Attack on Titan</td>\n",
       "      <td>Hero</td>\n",
       "      <td>9.8</td>\n",
       "      <td>120919</td>\n",
       "      <td>24</td>\n",
       "      <td>Action,Adventure,Animation</td>\n",
       "    </tr>\n",
       "    <tr>\n",
       "      <th>15</th>\n",
       "      <td>Game of Thrones</td>\n",
       "      <td>Hardhome</td>\n",
       "      <td>9.8</td>\n",
       "      <td>106305</td>\n",
       "      <td>61</td>\n",
       "      <td>Action,Adventure,Drama</td>\n",
       "    </tr>\n",
       "    <tr>\n",
       "      <th>16</th>\n",
       "      <td>Attack on Titan</td>\n",
       "      <td>Declaration of War</td>\n",
       "      <td>9.8</td>\n",
       "      <td>74119</td>\n",
       "      <td>24</td>\n",
       "      <td>Action,Adventure,Animation</td>\n",
       "    </tr>\n",
       "    <tr>\n",
       "      <th>17</th>\n",
       "      <td>Attack on Titan</td>\n",
       "      <td>The War Hammer Titan</td>\n",
       "      <td>9.8</td>\n",
       "      <td>72268</td>\n",
       "      <td>24</td>\n",
       "      <td>Action,Adventure,Animation</td>\n",
       "    </tr>\n",
       "    <tr>\n",
       "      <th>18</th>\n",
       "      <td>Attack on Titan</td>\n",
       "      <td>Perfect Game</td>\n",
       "      <td>9.8</td>\n",
       "      <td>69560</td>\n",
       "      <td>24</td>\n",
       "      <td>Action,Adventure,Animation</td>\n",
       "    </tr>\n",
       "    <tr>\n",
       "      <th>19</th>\n",
       "      <td>Attack on Titan</td>\n",
       "      <td>Memories of the Future</td>\n",
       "      <td>9.8</td>\n",
       "      <td>69141</td>\n",
       "      <td>24</td>\n",
       "      <td>Action,Adventure,Animation</td>\n",
       "    </tr>\n",
       "  </tbody>\n",
       "</table>\n",
       "</div>"
      ],
      "text/plain": [
       "                  primaryTitle                  rated_primaryTitle  \\\n",
       "0                 Breaking Bad                          Ozymandias   \n",
       "1              Game of Thrones              Battle of the Bastards   \n",
       "2              Game of Thrones                 The Winds of Winter   \n",
       "3                 Breaking Bad                              Felina   \n",
       "4              Game of Thrones              The Rains of Castamere   \n",
       "5                 Breaking Bad                            Face Off   \n",
       "6             Better Call Saul                  Plan and Execution   \n",
       "7                   Succession                    Connor's Wedding   \n",
       "8                    Mr. Robot   407 Proxy Authentication Required   \n",
       "9              BoJack Horseman          The View from Halfway Down   \n",
       "10   Star Wars: The Clone Wars                   Victory and Death   \n",
       "11                Vinland Saga                 End of The Prologue   \n",
       "12  Avatar: The Last Airbender  Sozin's Comet, Part 4: Avatar Aang   \n",
       "13              Six Feet Under                  Everyone's Waiting   \n",
       "14             Attack on Titan                                Hero   \n",
       "15             Game of Thrones                            Hardhome   \n",
       "16             Attack on Titan                  Declaration of War   \n",
       "17             Attack on Titan                The War Hammer Titan   \n",
       "18             Attack on Titan                        Perfect Game   \n",
       "19             Attack on Titan              Memories of the Future   \n",
       "\n",
       "    rated_averageRating  rated_numVotes rated_runtimeMinutes  \\\n",
       "0                  10.0          208203                   47   \n",
       "1                   9.9          220604                   60   \n",
       "2                   9.9          157054                   68   \n",
       "3                   9.9          135029                   55   \n",
       "4                   9.9          114663                   51   \n",
       "5                   9.9           71877                   50   \n",
       "6                   9.9           54213                   50   \n",
       "7                   9.9           33682                   62   \n",
       "8                   9.9           33130                   56   \n",
       "9                   9.9           20131                   26   \n",
       "10                  9.9           17448                   23   \n",
       "11                  9.9           14935                   24   \n",
       "12                  9.9           14600                   21   \n",
       "13                  9.9           11565                   73   \n",
       "14                  9.8          120919                   24   \n",
       "15                  9.8          106305                   61   \n",
       "16                  9.8           74119                   24   \n",
       "17                  9.8           72268                   24   \n",
       "18                  9.8           69560                   24   \n",
       "19                  9.8           69141                   24   \n",
       "\n",
       "                        genres  \n",
       "0         Crime,Drama,Thriller  \n",
       "1       Action,Adventure,Drama  \n",
       "2       Action,Adventure,Drama  \n",
       "3         Crime,Drama,Thriller  \n",
       "4       Action,Adventure,Drama  \n",
       "5         Crime,Drama,Thriller  \n",
       "6                  Crime,Drama  \n",
       "7                 Comedy,Drama  \n",
       "8         Crime,Drama,Thriller  \n",
       "9       Animation,Comedy,Drama  \n",
       "10  Action,Adventure,Animation  \n",
       "11  Action,Adventure,Animation  \n",
       "12  Action,Adventure,Animation  \n",
       "13                Comedy,Drama  \n",
       "14  Action,Adventure,Animation  \n",
       "15      Action,Adventure,Drama  \n",
       "16  Action,Adventure,Animation  \n",
       "17  Action,Adventure,Animation  \n",
       "18  Action,Adventure,Animation  \n",
       "19  Action,Adventure,Animation  "
      ]
     },
     "execution_count": 18,
     "metadata": {},
     "output_type": "execute_result"
    }
   ],
   "source": [
    "%%bigquery\n",
    "\n",
    "(SELECT primaryTitle, rated_primaryTitle, rated_averageRating, rated_numVotes, rated_runtimeMinutes, genres FROM `ba775team08.imdb_non_commercial_datasets_11_11.new_title_parentTconst` as pT \n",
    "inner join `ba775team08.imdb_non_commercial_datasets_11_11.title_basics` as title\n",
    "on pT.parentTconst = title.tconst\n",
    "order by rated_averageRating desc, rated_numVotes desc)\n",
    "limit 20"
   ]
  },
  {
   "cell_type": "markdown",
   "id": "950fbfb7-d8e7-40c7-8543-70bd7423b290",
   "metadata": {},
   "source": [
    "#### Findings\n",
    "\n",
    "**Insights on the Highest-Rated Episodes and Their Hosting TV Shows**:\n",
    "\n",
    "* Selection Based on Widespread Popularity:\n",
    "By specifically filtering episodes with votes exceeding 20,000, the query narrows its focus to identify episodes that have garnered significant popularity and substantial viewer participation, indicating widespread acclaim.\n",
    "\n",
    "* Inclusion of TV Show Context:\n",
    "An additional column from another table is incorporated, displaying the TV show associated with the highest-rated episode. This added context provides insight into the hosting TV series, offering a broader perspective on the top-rated content.\n",
    "\n",
    "* Dominance of a few TV shows:\n",
    "We can see that the Top 20 episodes of all time are dominated by Game of Thrones, Breaking Bad and Attack on Titan, indicating the popularity of these shows\n"
   ]
  },
  {
   "cell_type": "markdown",
   "id": "e8168ebb-fe26-409b-bb74-28ad5e4e158c",
   "metadata": {},
   "source": [
    "<br>"
   ]
  },
  {
   "cell_type": "markdown",
   "id": "cb0799d4-3ff9-408b-8f3f-1b5d5099cf88",
   "metadata": {
    "tags": []
   },
   "source": [
    "### Question 6. What are the highest Rated Comedy Episodes of the past two decades and which shows do those episodes belong to?"
   ]
  },
  {
   "cell_type": "markdown",
   "id": "40b60f7b-36c6-4f48-80de-c0b24e12de8e",
   "metadata": {},
   "source": [
    " #### Creating a View to simplify this query"
   ]
  },
  {
   "cell_type": "code",
   "execution_count": 22,
   "id": "7cbd0b29-7df0-4945-a0cf-b52a5bdb7cb0",
   "metadata": {
    "tags": []
   },
   "outputs": [
    {
     "data": {
      "application/vnd.jupyter.widget-view+json": {
       "model_id": "0a698d8cf9ef4ecd8a676a355aa5bb90",
       "version_major": 2,
       "version_minor": 0
      },
      "text/plain": [
       "Query is running:   0%|          |"
      ]
     },
     "metadata": {},
     "output_type": "display_data"
    },
    {
     "data": {
      "text/html": [
       "<div>\n",
       "<style scoped>\n",
       "    .dataframe tbody tr th:only-of-type {\n",
       "        vertical-align: middle;\n",
       "    }\n",
       "\n",
       "    .dataframe tbody tr th {\n",
       "        vertical-align: top;\n",
       "    }\n",
       "\n",
       "    .dataframe thead th {\n",
       "        text-align: right;\n",
       "    }\n",
       "</style>\n",
       "<table border=\"1\" class=\"dataframe\">\n",
       "  <thead>\n",
       "    <tr style=\"text-align: right;\">\n",
       "      <th></th>\n",
       "    </tr>\n",
       "  </thead>\n",
       "  <tbody>\n",
       "  </tbody>\n",
       "</table>\n",
       "</div>"
      ],
      "text/plain": [
       "Empty DataFrame\n",
       "Columns: []\n",
       "Index: []"
      ]
     },
     "execution_count": 22,
     "metadata": {},
     "output_type": "execute_result"
    }
   ],
   "source": [
    "%%bigquery\n",
    "CREATE OR REPLACE VIEW `imdb_non_commercial_datasets_11_11.new_title_parentTconst_comedy` AS\n",
    "WITH pTconst AS (\n",
    "    SELECT episode.*, highest_rated.tconst AS rated_tconst, highest_rated.primaryTitle AS rated_primaryTitle, highest_rated.averageRating AS rated_averageRating, highest_rated.numVotes AS rated_numVotes, highest_rated.startYear AS rated_startYear, highest_rated.runtimeMinutes AS rated_runtimeMinutes, highest_rated.genres AS rated_genres, highest_rated.titleType AS rated_titleType\n",
    "    FROM `ba775team08.imdb_non_commercial_datasets_11_11.title_episode` AS episode\n",
    "    LEFT JOIN (\n",
    "        SELECT tconst, primaryTitle, averageRating, numVotes, startYear, runtimeMinutes, genres, titleType\n",
    "        FROM `ba775team08.imdb_non_commercial_datasets_11_11.title_ratings`\n",
    "        LEFT JOIN `ba775team08.imdb_non_commercial_datasets_11_11.title_basics`\n",
    "        USING (tconst)\n",
    "        WHERE CAST(numVotes AS FLOAT64) > 4000\n",
    "            AND runtimeMinutes != '\\\\N'\n",
    "            AND titleType = 'tvEpisode'\n",
    "            AND startYear like '20%'\n",
    "            AND genres = 'Comedy'\n",
    "        ORDER BY averageRating DESC\n",
    "    ) AS highest_rated ON episode.tconst = highest_rated.tconst\n",
    "    WHERE highest_rated.averageRating IS NOT NULL\n",
    "    ORDER BY highest_rated.averageRating DESC\n",
    ")\n",
    "SELECT * FROM pTconst;\n"
   ]
  },
  {
   "cell_type": "code",
   "execution_count": 23,
   "id": "c51e9bb8-6826-44d7-95f9-38308638be14",
   "metadata": {
    "tags": []
   },
   "outputs": [
    {
     "data": {
      "application/vnd.jupyter.widget-view+json": {
       "model_id": "c49851b149d640dd94642acebaec898c",
       "version_major": 2,
       "version_minor": 0
      },
      "text/plain": [
       "Query is running:   0%|          |"
      ]
     },
     "metadata": {},
     "output_type": "display_data"
    },
    {
     "data": {
      "application/vnd.jupyter.widget-view+json": {
       "model_id": "ca3e967d1f4d40f881c50c7946f2e141",
       "version_major": 2,
       "version_minor": 0
      },
      "text/plain": [
       "Downloading:   0%|          |"
      ]
     },
     "metadata": {},
     "output_type": "display_data"
    },
    {
     "data": {
      "text/html": [
       "<div>\n",
       "<style scoped>\n",
       "    .dataframe tbody tr th:only-of-type {\n",
       "        vertical-align: middle;\n",
       "    }\n",
       "\n",
       "    .dataframe tbody tr th {\n",
       "        vertical-align: top;\n",
       "    }\n",
       "\n",
       "    .dataframe thead th {\n",
       "        text-align: right;\n",
       "    }\n",
       "</style>\n",
       "<table border=\"1\" class=\"dataframe\">\n",
       "  <thead>\n",
       "    <tr style=\"text-align: right;\">\n",
       "      <th></th>\n",
       "      <th>primaryTitle</th>\n",
       "      <th>rated_primaryTitle</th>\n",
       "      <th>rated_averageRating</th>\n",
       "      <th>rated_numVotes</th>\n",
       "      <th>rated_runtimeMinutes</th>\n",
       "      <th>genres</th>\n",
       "    </tr>\n",
       "  </thead>\n",
       "  <tbody>\n",
       "    <tr>\n",
       "      <th>0</th>\n",
       "      <td>The Office</td>\n",
       "      <td>Finale</td>\n",
       "      <td>9.8</td>\n",
       "      <td>20853</td>\n",
       "      <td>51</td>\n",
       "      <td>Comedy</td>\n",
       "    </tr>\n",
       "    <tr>\n",
       "      <th>1</th>\n",
       "      <td>The Office</td>\n",
       "      <td>Goodbye, Michael</td>\n",
       "      <td>9.8</td>\n",
       "      <td>17571</td>\n",
       "      <td>36</td>\n",
       "      <td>Comedy</td>\n",
       "    </tr>\n",
       "    <tr>\n",
       "      <th>2</th>\n",
       "      <td>Community</td>\n",
       "      <td>Modern Warfare</td>\n",
       "      <td>9.8</td>\n",
       "      <td>13776</td>\n",
       "      <td>20</td>\n",
       "      <td>Comedy</td>\n",
       "    </tr>\n",
       "    <tr>\n",
       "      <th>3</th>\n",
       "      <td>Community</td>\n",
       "      <td>Remedial Chaos Theory</td>\n",
       "      <td>9.8</td>\n",
       "      <td>13255</td>\n",
       "      <td>22</td>\n",
       "      <td>Comedy</td>\n",
       "    </tr>\n",
       "    <tr>\n",
       "      <th>4</th>\n",
       "      <td>It's Always Sunny in Philadelphia</td>\n",
       "      <td>Charlie Work</td>\n",
       "      <td>9.8</td>\n",
       "      <td>9824</td>\n",
       "      <td>23</td>\n",
       "      <td>Comedy</td>\n",
       "    </tr>\n",
       "    <tr>\n",
       "      <th>5</th>\n",
       "      <td>The Office</td>\n",
       "      <td>Stress Relief</td>\n",
       "      <td>9.7</td>\n",
       "      <td>16044</td>\n",
       "      <td>42</td>\n",
       "      <td>Comedy</td>\n",
       "    </tr>\n",
       "    <tr>\n",
       "      <th>6</th>\n",
       "      <td>It's Always Sunny in Philadelphia</td>\n",
       "      <td>The Nightman Cometh</td>\n",
       "      <td>9.7</td>\n",
       "      <td>7769</td>\n",
       "      <td>22</td>\n",
       "      <td>Comedy</td>\n",
       "    </tr>\n",
       "    <tr>\n",
       "      <th>7</th>\n",
       "      <td>Community</td>\n",
       "      <td>A Fistful of Paintballs</td>\n",
       "      <td>9.6</td>\n",
       "      <td>8241</td>\n",
       "      <td>30</td>\n",
       "      <td>Comedy</td>\n",
       "    </tr>\n",
       "    <tr>\n",
       "      <th>8</th>\n",
       "      <td>Community</td>\n",
       "      <td>Advanced Dungeons &amp; Dragons</td>\n",
       "      <td>9.5</td>\n",
       "      <td>7373</td>\n",
       "      <td>22</td>\n",
       "      <td>Comedy</td>\n",
       "    </tr>\n",
       "    <tr>\n",
       "      <th>9</th>\n",
       "      <td>Community</td>\n",
       "      <td>For a Few Paintballs More</td>\n",
       "      <td>9.5</td>\n",
       "      <td>6784</td>\n",
       "      <td>30</td>\n",
       "      <td>Comedy</td>\n",
       "    </tr>\n",
       "    <tr>\n",
       "      <th>10</th>\n",
       "      <td>It's Always Sunny in Philadelphia</td>\n",
       "      <td>The Gang Goes to a Water Park</td>\n",
       "      <td>9.5</td>\n",
       "      <td>5291</td>\n",
       "      <td>20</td>\n",
       "      <td>Comedy</td>\n",
       "    </tr>\n",
       "    <tr>\n",
       "      <th>11</th>\n",
       "      <td>Parks and Recreation</td>\n",
       "      <td>One Last Ride</td>\n",
       "      <td>9.5</td>\n",
       "      <td>5192</td>\n",
       "      <td>44</td>\n",
       "      <td>Comedy</td>\n",
       "    </tr>\n",
       "    <tr>\n",
       "      <th>12</th>\n",
       "      <td>Parks and Recreation</td>\n",
       "      <td>Leslie and Ron</td>\n",
       "      <td>9.5</td>\n",
       "      <td>4333</td>\n",
       "      <td>22</td>\n",
       "      <td>Comedy</td>\n",
       "    </tr>\n",
       "    <tr>\n",
       "      <th>13</th>\n",
       "      <td>The Office</td>\n",
       "      <td>Dinner Party</td>\n",
       "      <td>9.4</td>\n",
       "      <td>11528</td>\n",
       "      <td>22</td>\n",
       "      <td>Comedy</td>\n",
       "    </tr>\n",
       "    <tr>\n",
       "      <th>14</th>\n",
       "      <td>The Office</td>\n",
       "      <td>A.A.R.M.</td>\n",
       "      <td>9.4</td>\n",
       "      <td>8164</td>\n",
       "      <td>43</td>\n",
       "      <td>Comedy</td>\n",
       "    </tr>\n",
       "    <tr>\n",
       "      <th>15</th>\n",
       "      <td>The Office</td>\n",
       "      <td>Niagara: Part 2</td>\n",
       "      <td>9.4</td>\n",
       "      <td>7558</td>\n",
       "      <td>22</td>\n",
       "      <td>Comedy</td>\n",
       "    </tr>\n",
       "    <tr>\n",
       "      <th>16</th>\n",
       "      <td>Community</td>\n",
       "      <td>Conspiracy Theories and Interior Design</td>\n",
       "      <td>9.4</td>\n",
       "      <td>6648</td>\n",
       "      <td>22</td>\n",
       "      <td>Comedy</td>\n",
       "    </tr>\n",
       "    <tr>\n",
       "      <th>17</th>\n",
       "      <td>Community</td>\n",
       "      <td>Emotional Consequences of Broadcast Television</td>\n",
       "      <td>9.4</td>\n",
       "      <td>6364</td>\n",
       "      <td>27</td>\n",
       "      <td>Comedy</td>\n",
       "    </tr>\n",
       "    <tr>\n",
       "      <th>18</th>\n",
       "      <td>Community</td>\n",
       "      <td>Digital Estate Planning</td>\n",
       "      <td>9.4</td>\n",
       "      <td>6321</td>\n",
       "      <td>22</td>\n",
       "      <td>Comedy</td>\n",
       "    </tr>\n",
       "    <tr>\n",
       "      <th>19</th>\n",
       "      <td>Community</td>\n",
       "      <td>Basic Lupine Urology</td>\n",
       "      <td>9.4</td>\n",
       "      <td>6228</td>\n",
       "      <td>21</td>\n",
       "      <td>Comedy</td>\n",
       "    </tr>\n",
       "  </tbody>\n",
       "</table>\n",
       "</div>"
      ],
      "text/plain": [
       "                         primaryTitle  \\\n",
       "0                          The Office   \n",
       "1                          The Office   \n",
       "2                           Community   \n",
       "3                           Community   \n",
       "4   It's Always Sunny in Philadelphia   \n",
       "5                          The Office   \n",
       "6   It's Always Sunny in Philadelphia   \n",
       "7                           Community   \n",
       "8                           Community   \n",
       "9                           Community   \n",
       "10  It's Always Sunny in Philadelphia   \n",
       "11               Parks and Recreation   \n",
       "12               Parks and Recreation   \n",
       "13                         The Office   \n",
       "14                         The Office   \n",
       "15                         The Office   \n",
       "16                          Community   \n",
       "17                          Community   \n",
       "18                          Community   \n",
       "19                          Community   \n",
       "\n",
       "                                rated_primaryTitle  rated_averageRating  \\\n",
       "0                                           Finale                  9.8   \n",
       "1                                 Goodbye, Michael                  9.8   \n",
       "2                                   Modern Warfare                  9.8   \n",
       "3                            Remedial Chaos Theory                  9.8   \n",
       "4                                     Charlie Work                  9.8   \n",
       "5                                    Stress Relief                  9.7   \n",
       "6                              The Nightman Cometh                  9.7   \n",
       "7                          A Fistful of Paintballs                  9.6   \n",
       "8                      Advanced Dungeons & Dragons                  9.5   \n",
       "9                        For a Few Paintballs More                  9.5   \n",
       "10                   The Gang Goes to a Water Park                  9.5   \n",
       "11                                   One Last Ride                  9.5   \n",
       "12                                  Leslie and Ron                  9.5   \n",
       "13                                    Dinner Party                  9.4   \n",
       "14                                        A.A.R.M.                  9.4   \n",
       "15                                 Niagara: Part 2                  9.4   \n",
       "16         Conspiracy Theories and Interior Design                  9.4   \n",
       "17  Emotional Consequences of Broadcast Television                  9.4   \n",
       "18                         Digital Estate Planning                  9.4   \n",
       "19                            Basic Lupine Urology                  9.4   \n",
       "\n",
       "    rated_numVotes rated_runtimeMinutes  genres  \n",
       "0            20853                   51  Comedy  \n",
       "1            17571                   36  Comedy  \n",
       "2            13776                   20  Comedy  \n",
       "3            13255                   22  Comedy  \n",
       "4             9824                   23  Comedy  \n",
       "5            16044                   42  Comedy  \n",
       "6             7769                   22  Comedy  \n",
       "7             8241                   30  Comedy  \n",
       "8             7373                   22  Comedy  \n",
       "9             6784                   30  Comedy  \n",
       "10            5291                   20  Comedy  \n",
       "11            5192                   44  Comedy  \n",
       "12            4333                   22  Comedy  \n",
       "13           11528                   22  Comedy  \n",
       "14            8164                   43  Comedy  \n",
       "15            7558                   22  Comedy  \n",
       "16            6648                   22  Comedy  \n",
       "17            6364                   27  Comedy  \n",
       "18            6321                   22  Comedy  \n",
       "19            6228                   21  Comedy  "
      ]
     },
     "execution_count": 23,
     "metadata": {},
     "output_type": "execute_result"
    }
   ],
   "source": [
    "%%bigquery\n",
    "\n",
    "(SELECT primaryTitle, rated_primaryTitle, rated_averageRating, rated_numVotes, rated_runtimeMinutes, genres FROM `ba775team08.imdb_non_commercial_datasets_11_11.new_title_parentTconst_comedy` as pT \n",
    "inner join `ba775team08.imdb_non_commercial_datasets_11_11.title_basics` as title\n",
    "on pT.parentTconst = title.tconst\n",
    "order by rated_averageRating desc, rated_numVotes desc)\n",
    "limit 20"
   ]
  },
  {
   "cell_type": "markdown",
   "id": "391aa589-7086-4e40-b42e-1f7ea488067b",
   "metadata": {},
   "source": [
    "#### Findings:\n",
    "\n",
    "**Insights on the Highest-Rated Comedy Episodes and Their Respective TV Shows:**\n",
    "\n",
    "* Refinement for Widespread Popularity:\n",
    "By specifically considering episodes with votes surpassing 20,000, the query focuses on identifying episodes that have garnered widespread popularity and significant viewer engagement.\n",
    "\n",
    "* Inclusion of Hosting TV Show Information:\n",
    "Notably, the query incorporates a column from another table, displaying the TV Show that hosts the highest-rated episode. This additional context provides insight into the TV series associated with the top-rated comedic content.\n",
    "\n",
    "* Dominance of a few TV shows:\n",
    "We can see that the Top 20 episodes of all time are dominated by 4 shows: The Office, Community, Its Always Sunny in Philadelphia, indicating their popularity.\n"
   ]
  },
  {
   "cell_type": "markdown",
   "id": "9a83c4d7-6030-4eba-974e-91b6d2a72d8f",
   "metadata": {
    "tags": []
   },
   "source": [
    "<br>"
   ]
  },
  {
   "cell_type": "markdown",
   "id": "5eca7cc8-e6ee-401e-a0a6-e91796fec8c0",
   "metadata": {
    "tags": []
   },
   "source": [
    "### Question 7. Determining most successfull Directors based on the ratings and votings for their TV series "
   ]
  },
  {
   "cell_type": "code",
   "execution_count": 129,
   "id": "2da46b7b-00da-48e7-bb69-34e3ef2c12f3",
   "metadata": {
    "tags": []
   },
   "outputs": [
    {
     "data": {
      "application/vnd.jupyter.widget-view+json": {
       "model_id": "255ca4728faf4e10aa6718275388b1dc",
       "version_major": 2,
       "version_minor": 0
      },
      "text/plain": [
       "Query is running:   0%|          |"
      ]
     },
     "metadata": {},
     "output_type": "display_data"
    },
    {
     "data": {
      "text/html": [
       "<div>\n",
       "<style scoped>\n",
       "    .dataframe tbody tr th:only-of-type {\n",
       "        vertical-align: middle;\n",
       "    }\n",
       "\n",
       "    .dataframe tbody tr th {\n",
       "        vertical-align: top;\n",
       "    }\n",
       "\n",
       "    .dataframe thead th {\n",
       "        text-align: right;\n",
       "    }\n",
       "</style>\n",
       "<table border=\"1\" class=\"dataframe\">\n",
       "  <thead>\n",
       "    <tr style=\"text-align: right;\">\n",
       "      <th></th>\n",
       "    </tr>\n",
       "  </thead>\n",
       "  <tbody>\n",
       "  </tbody>\n",
       "</table>\n",
       "</div>"
      ],
      "text/plain": [
       "Empty DataFrame\n",
       "Columns: []\n",
       "Index: []"
      ]
     },
     "execution_count": 129,
     "metadata": {},
     "output_type": "execute_result"
    }
   ],
   "source": [
    "%%bigquery\n",
    "CREATE  OR REPLACE TABLE `imdb_non_commercial_datasets_11_11.title_parentTconst` AS\n",
    "SELECT DISTINCT parentTconst FROM `ba775team08.imdb_non_commercial_datasets_11_11.title_episode` "
   ]
  },
  {
   "cell_type": "markdown",
   "id": "7f6ddbb5-eaf2-4d96-a230-290b6e14eae0",
   "metadata": {},
   "source": [
    "#### Creating a new table by joining the reqired datasets for determining the Director's ratings for series "
   ]
  },
  {
   "cell_type": "code",
   "execution_count": 28,
   "id": "303e75c0-74cf-47d3-a11d-7f11d3633f1b",
   "metadata": {
    "tags": []
   },
   "outputs": [
    {
     "data": {
      "application/vnd.jupyter.widget-view+json": {
       "model_id": "c2c47589ef4545a58f2b4d4c8d299a0d",
       "version_major": 2,
       "version_minor": 0
      },
      "text/plain": [
       "Query is running:   0%|          |"
      ]
     },
     "metadata": {},
     "output_type": "display_data"
    },
    {
     "data": {
      "text/html": [
       "<div>\n",
       "<style scoped>\n",
       "    .dataframe tbody tr th:only-of-type {\n",
       "        vertical-align: middle;\n",
       "    }\n",
       "\n",
       "    .dataframe tbody tr th {\n",
       "        vertical-align: top;\n",
       "    }\n",
       "\n",
       "    .dataframe thead th {\n",
       "        text-align: right;\n",
       "    }\n",
       "</style>\n",
       "<table border=\"1\" class=\"dataframe\">\n",
       "  <thead>\n",
       "    <tr style=\"text-align: right;\">\n",
       "      <th></th>\n",
       "    </tr>\n",
       "  </thead>\n",
       "  <tbody>\n",
       "  </tbody>\n",
       "</table>\n",
       "</div>"
      ],
      "text/plain": [
       "Empty DataFrame\n",
       "Columns: []\n",
       "Index: []"
      ]
     },
     "execution_count": 28,
     "metadata": {},
     "output_type": "execute_result"
    }
   ],
   "source": [
    "%%bigquery\n",
    "CREATE OR REPLACE TABLE `imdb_non_commercial_datasets_11_11.Director_TvSeries_miniSeries_Ratings` AS\n",
    "WITH Numbers AS \n",
    "(SELECT ROW_NUMBER() OVER () - 1 AS n\n",
    "FROM `imdb_non_commercial_datasets_11_11.title_parentTconst`\n",
    "LIMIT 20)\n",
    "\n",
    "SELECT A.parentTconst,B.titleType,B.originalTitle,C.averageRating,C.numVotes,\n",
    "SPLIT(D.directors, ',')[OFFSET(N.n)] AS director_nconst,E.primaryName AS director_name,B.startYear\n",
    "FROM\n",
    "`imdb_non_commercial_datasets_11_11.title_parentTconst` A\n",
    "INNER JOIN\n",
    "`ba775team08.imdb_non_commercial_datasets_11_11.title_basic_Tvseries_Tvminiseries_Tvepisodes` B \n",
    "ON A.parentTconst = B.tconst\n",
    "INNER JOIN\n",
    "`ba775team08.imdb_non_commercial_datasets_11_11.title_ratings` C \n",
    "ON A.parentTconst = C.tconst\n",
    "INNER JOIN\n",
    "`ba775team08.imdb_non_commercial_datasets_11_11.title_crew` D \n",
    "ON A.parentTconst = D.tconst\n",
    "CROSS JOIN Numbers N\n",
    "INNER JOIN\n",
    "`ba775team08.imdb_non_commercial_datasets_11_11.names_basic` E ON SPLIT(D.directors, ',')[OFFSET(N.n)] = E.nconst\n",
    "WHERE\n",
    "C.averageRating IS NOT NULL \n",
    "AND N.n < ARRAY_LENGTH(SPLIT(D.directors, ','))\n",
    "AND B.startYear LIKE '20%' "
   ]
  },
  {
   "cell_type": "markdown",
   "id": "8304660b-dab5-431a-9cfd-feb0fc3a7971",
   "metadata": {
    "tags": []
   },
   "source": [
    "#### Creating a new table to determine the Director's average ratings for all the series worked "
   ]
  },
  {
   "cell_type": "code",
   "execution_count": 29,
   "id": "b1d5ecae-088c-4fa8-955f-4f4843a198ed",
   "metadata": {
    "tags": []
   },
   "outputs": [
    {
     "data": {
      "application/vnd.jupyter.widget-view+json": {
       "model_id": "840a1e2cda0c4f1baaa129252d6c1ff1",
       "version_major": 2,
       "version_minor": 0
      },
      "text/plain": [
       "Query is running:   0%|          |"
      ]
     },
     "metadata": {},
     "output_type": "display_data"
    },
    {
     "data": {
      "text/html": [
       "<div>\n",
       "<style scoped>\n",
       "    .dataframe tbody tr th:only-of-type {\n",
       "        vertical-align: middle;\n",
       "    }\n",
       "\n",
       "    .dataframe tbody tr th {\n",
       "        vertical-align: top;\n",
       "    }\n",
       "\n",
       "    .dataframe thead th {\n",
       "        text-align: right;\n",
       "    }\n",
       "</style>\n",
       "<table border=\"1\" class=\"dataframe\">\n",
       "  <thead>\n",
       "    <tr style=\"text-align: right;\">\n",
       "      <th></th>\n",
       "    </tr>\n",
       "  </thead>\n",
       "  <tbody>\n",
       "  </tbody>\n",
       "</table>\n",
       "</div>"
      ],
      "text/plain": [
       "Empty DataFrame\n",
       "Columns: []\n",
       "Index: []"
      ]
     },
     "execution_count": 29,
     "metadata": {},
     "output_type": "execute_result"
    }
   ],
   "source": [
    "%%bigquery\n",
    "CREATE OR REPLACE TABLE  `ba775team08.imdb_non_commercial_datasets_11_11.Director_AVGRatings` AS\n",
    "WITH Series_Names AS \n",
    "(SELECT director_nconst,\n",
    "STRING_AGG(originalTitle, ', ') AS Series_Names\n",
    "FROM `ba775team08.imdb_non_commercial_datasets_11_11.Director_TvSeries_miniSeries_Ratings`\n",
    "GROUP BY director_nconst)\n",
    "SELECT \n",
    "A.director_nconst,B.primaryName AS director_name,A.titleType,AVG(A.averageRating) AS director_avg_rating,\n",
    "COUNT(A.parentTconst) AS number_of_titles,SUM(A.numVotes) AS total_votes,C.Series_Names\n",
    "FROM \n",
    "`ba775team08.imdb_non_commercial_datasets_11_11.Director_TvSeries_miniSeries_Ratings` A\n",
    "INNER JOIN \n",
    "`ba775team08.imdb_non_commercial_datasets_11_11.names_basic` B ON A.director_nconst = B.nconst\n",
    "LEFT JOIN \n",
    "Series_Names C ON A.director_nconst = C.director_nconst\n",
    "GROUP BY \n",
    "A.director_nconst, B.primaryName,A.titleType,C.Series_Names;"
   ]
  },
  {
   "cell_type": "code",
   "execution_count": 30,
   "id": "2d83ec1e-3706-43e1-9437-822f424e71cd",
   "metadata": {
    "tags": []
   },
   "outputs": [
    {
     "data": {
      "application/vnd.jupyter.widget-view+json": {
       "model_id": "baae7b6096764172ac588078f1995046",
       "version_major": 2,
       "version_minor": 0
      },
      "text/plain": [
       "Query is running:   0%|          |"
      ]
     },
     "metadata": {},
     "output_type": "display_data"
    },
    {
     "data": {
      "application/vnd.jupyter.widget-view+json": {
       "model_id": "b2d45785b54149949510e466bf7d7f07",
       "version_major": 2,
       "version_minor": 0
      },
      "text/plain": [
       "Downloading:   0%|          |"
      ]
     },
     "metadata": {},
     "output_type": "display_data"
    },
    {
     "data": {
      "text/html": [
       "<div>\n",
       "<style scoped>\n",
       "    .dataframe tbody tr th:only-of-type {\n",
       "        vertical-align: middle;\n",
       "    }\n",
       "\n",
       "    .dataframe tbody tr th {\n",
       "        vertical-align: top;\n",
       "    }\n",
       "\n",
       "    .dataframe thead th {\n",
       "        text-align: right;\n",
       "    }\n",
       "</style>\n",
       "<table border=\"1\" class=\"dataframe\">\n",
       "  <thead>\n",
       "    <tr style=\"text-align: right;\">\n",
       "      <th></th>\n",
       "      <th>director_nconst</th>\n",
       "      <th>director_name</th>\n",
       "      <th>titleType</th>\n",
       "      <th>director_avg_rating</th>\n",
       "      <th>number_of_titles</th>\n",
       "      <th>total_votes</th>\n",
       "      <th>Series_Names</th>\n",
       "    </tr>\n",
       "  </thead>\n",
       "  <tbody>\n",
       "    <tr>\n",
       "      <th>0</th>\n",
       "      <td>nm0139081</td>\n",
       "      <td>Benjamin Caron</td>\n",
       "      <td>tvSeries</td>\n",
       "      <td>8.300000</td>\n",
       "      <td>10</td>\n",
       "      <td>1502258</td>\n",
       "      <td>Scott &amp; Bailey, Derren Brown: Trick or Treat, ...</td>\n",
       "    </tr>\n",
       "    <tr>\n",
       "      <th>1</th>\n",
       "      <td>nm0887700</td>\n",
       "      <td>Timothy Van Patten</td>\n",
       "      <td>tvSeries</td>\n",
       "      <td>8.263636</td>\n",
       "      <td>11</td>\n",
       "      <td>3737358</td>\n",
       "      <td>Into the West, Pasadena, Deadwood, Boardwalk E...</td>\n",
       "    </tr>\n",
       "    <tr>\n",
       "      <th>2</th>\n",
       "      <td>nm0851930</td>\n",
       "      <td>Alan Taylor</td>\n",
       "      <td>tvSeries</td>\n",
       "      <td>8.200000</td>\n",
       "      <td>19</td>\n",
       "      <td>4237525</td>\n",
       "      <td>House of the Dragon, Blue Eye Samurai, Intervi...</td>\n",
       "    </tr>\n",
       "    <tr>\n",
       "      <th>3</th>\n",
       "      <td>nm0528186</td>\n",
       "      <td>Euros Lyn</td>\n",
       "      <td>tvSeries</td>\n",
       "      <td>8.200000</td>\n",
       "      <td>15</td>\n",
       "      <td>2459991</td>\n",
       "      <td>Belonging, Happy Valley, Cutting It, All About...</td>\n",
       "    </tr>\n",
       "    <tr>\n",
       "      <th>4</th>\n",
       "      <td>nm0267497</td>\n",
       "      <td>Julian Farino</td>\n",
       "      <td>tvSeries</td>\n",
       "      <td>8.127273</td>\n",
       "      <td>11</td>\n",
       "      <td>1316191</td>\n",
       "      <td>The Office, Bob &amp; Rose, Ballers, Giri/Haji, Th...</td>\n",
       "    </tr>\n",
       "    <tr>\n",
       "      <th>5</th>\n",
       "      <td>nm0661751</td>\n",
       "      <td>Dean Parisot</td>\n",
       "      <td>tvSeries</td>\n",
       "      <td>8.066667</td>\n",
       "      <td>12</td>\n",
       "      <td>1115830</td>\n",
       "      <td>Modern Family, The Deep End, The Tick, Santa C...</td>\n",
       "    </tr>\n",
       "    <tr>\n",
       "      <th>6</th>\n",
       "      <td>nm0132600</td>\n",
       "      <td>Jonny Campbell</td>\n",
       "      <td>tvSeries</td>\n",
       "      <td>8.054545</td>\n",
       "      <td>11</td>\n",
       "      <td>316123</td>\n",
       "      <td>The Casual Vacancy, Shameless, Glasgow Kiss, D...</td>\n",
       "    </tr>\n",
       "    <tr>\n",
       "      <th>7</th>\n",
       "      <td>nm1047532</td>\n",
       "      <td>Brian Kirk</td>\n",
       "      <td>tvSeries</td>\n",
       "      <td>8.028571</td>\n",
       "      <td>14</td>\n",
       "      <td>3557721</td>\n",
       "      <td>Great Expectations, Father &amp; Son, The Riches, ...</td>\n",
       "    </tr>\n",
       "    <tr>\n",
       "      <th>8</th>\n",
       "      <td>nm0002399</td>\n",
       "      <td>Alik Sakharov</td>\n",
       "      <td>tvSeries</td>\n",
       "      <td>8.023529</td>\n",
       "      <td>17</td>\n",
       "      <td>5222776</td>\n",
       "      <td>Marco Polo, Counterpart, The Witcher, Ozark, G...</td>\n",
       "    </tr>\n",
       "    <tr>\n",
       "      <th>9</th>\n",
       "      <td>nm0590889</td>\n",
       "      <td>Daniel Minahan</td>\n",
       "      <td>tvSeries</td>\n",
       "      <td>7.994444</td>\n",
       "      <td>18</td>\n",
       "      <td>4122078</td>\n",
       "      <td>John from Cincinnati, Life on Mars, Halston, H...</td>\n",
       "    </tr>\n",
       "  </tbody>\n",
       "</table>\n",
       "</div>"
      ],
      "text/plain": [
       "  director_nconst       director_name titleType  director_avg_rating  \\\n",
       "0       nm0139081      Benjamin Caron  tvSeries             8.300000   \n",
       "1       nm0887700  Timothy Van Patten  tvSeries             8.263636   \n",
       "2       nm0851930         Alan Taylor  tvSeries             8.200000   \n",
       "3       nm0528186           Euros Lyn  tvSeries             8.200000   \n",
       "4       nm0267497       Julian Farino  tvSeries             8.127273   \n",
       "5       nm0661751        Dean Parisot  tvSeries             8.066667   \n",
       "6       nm0132600      Jonny Campbell  tvSeries             8.054545   \n",
       "7       nm1047532          Brian Kirk  tvSeries             8.028571   \n",
       "8       nm0002399       Alik Sakharov  tvSeries             8.023529   \n",
       "9       nm0590889      Daniel Minahan  tvSeries             7.994444   \n",
       "\n",
       "   number_of_titles  total_votes  \\\n",
       "0                10      1502258   \n",
       "1                11      3737358   \n",
       "2                19      4237525   \n",
       "3                15      2459991   \n",
       "4                11      1316191   \n",
       "5                12      1115830   \n",
       "6                11       316123   \n",
       "7                14      3557721   \n",
       "8                17      5222776   \n",
       "9                18      4122078   \n",
       "\n",
       "                                        Series_Names  \n",
       "0  Scott & Bailey, Derren Brown: Trick or Treat, ...  \n",
       "1  Into the West, Pasadena, Deadwood, Boardwalk E...  \n",
       "2  House of the Dragon, Blue Eye Samurai, Intervi...  \n",
       "3  Belonging, Happy Valley, Cutting It, All About...  \n",
       "4  The Office, Bob & Rose, Ballers, Giri/Haji, Th...  \n",
       "5  Modern Family, The Deep End, The Tick, Santa C...  \n",
       "6  The Casual Vacancy, Shameless, Glasgow Kiss, D...  \n",
       "7  Great Expectations, Father & Son, The Riches, ...  \n",
       "8  Marco Polo, Counterpart, The Witcher, Ozark, G...  \n",
       "9  John from Cincinnati, Life on Mars, Halston, H...  "
      ]
     },
     "execution_count": 30,
     "metadata": {},
     "output_type": "execute_result"
    }
   ],
   "source": [
    "%%bigquery\n",
    "SELECT  * \n",
    "FROM `ba775team08.imdb_non_commercial_datasets_11_11.Director_AVGRatings`\n",
    "WHERE titleType = \"tvSeries\" AND number_of_titles>=10 AND Total_votes >=100000\n",
    "ORDER BY director_avg_rating DESC\n",
    "LIMIT 10"
   ]
  },
  {
   "cell_type": "markdown",
   "id": "d2832511-e9f0-4c2c-88c9-1faa6613d19d",
   "metadata": {},
   "source": [
    "#### Findings :\n",
    "\n",
    "* The above analysis helps us identify the success for the directors from the TV series they have worked on based on the average ratings from 2000. When the analysis was done just on the basis of the ratings ,there were more than 200 top performing directors. To find out the top 10 directors, the conditions for number of votings (more than 100,000) and number of TV series(10) were applied. By doing this, we will be able to identify the top consistently high-performing directors in these categories.This analysis can help us understand which directors have the most significant impact on the success of TV series as judged by audience ratings and votings.\n",
    "\n",
    "* A director's rank in the top 10 list might not have a direct impact with the number of titles they have worked on. A higher number of titles can mean their experience but it does not mean they get the higher rank. The quality of work also playes a crucial role for the ratings of the director. Benjamin Caron has titles (10 titles) less than Daniel Minahan (18 titles) but, has ranked more successfull. A director with fewer but highly-rated titles could outrank one with more titles but lower ratings."
   ]
  },
  {
   "cell_type": "markdown",
   "id": "6d692e60-f11a-44c4-8618-09e336349915",
   "metadata": {},
   "source": [
    "<br>"
   ]
  },
  {
   "cell_type": "markdown",
   "id": "73a53f07-799a-483a-80df-5ebea4f496f9",
   "metadata": {
    "tags": []
   },
   "source": [
    "### Question 8. What are the Top-rated TV series genre across different Regions and how is the genre preference now different from 2000 "
   ]
  },
  {
   "cell_type": "code",
   "execution_count": 31,
   "id": "390806fe-b3ea-4dbe-a00d-921264880efe",
   "metadata": {
    "tags": []
   },
   "outputs": [
    {
     "data": {
      "application/vnd.jupyter.widget-view+json": {
       "model_id": "e8d224ff3c624d4bb129287795f1dd29",
       "version_major": 2,
       "version_minor": 0
      },
      "text/plain": [
       "Query is running:   0%|          |"
      ]
     },
     "metadata": {},
     "output_type": "display_data"
    },
    {
     "data": {
      "application/vnd.jupyter.widget-view+json": {
       "model_id": "9c2244238faf4a92b16637d1fce129f9",
       "version_major": 2,
       "version_minor": 0
      },
      "text/plain": [
       "Downloading:   0%|          |"
      ]
     },
     "metadata": {},
     "output_type": "display_data"
    },
    {
     "data": {
      "text/html": [
       "<div>\n",
       "<style scoped>\n",
       "    .dataframe tbody tr th:only-of-type {\n",
       "        vertical-align: middle;\n",
       "    }\n",
       "\n",
       "    .dataframe tbody tr th {\n",
       "        vertical-align: top;\n",
       "    }\n",
       "\n",
       "    .dataframe thead th {\n",
       "        text-align: right;\n",
       "    }\n",
       "</style>\n",
       "<table border=\"1\" class=\"dataframe\">\n",
       "  <thead>\n",
       "    <tr style=\"text-align: right;\">\n",
       "      <th></th>\n",
       "      <th>region</th>\n",
       "      <th>genres</th>\n",
       "      <th>avgRating</th>\n",
       "    </tr>\n",
       "  </thead>\n",
       "  <tbody>\n",
       "    <tr>\n",
       "      <th>0</th>\n",
       "      <td>PK</td>\n",
       "      <td>Romance</td>\n",
       "      <td>9.6</td>\n",
       "    </tr>\n",
       "    <tr>\n",
       "      <th>1</th>\n",
       "      <td>IN</td>\n",
       "      <td>Romance</td>\n",
       "      <td>9.5</td>\n",
       "    </tr>\n",
       "    <tr>\n",
       "      <th>2</th>\n",
       "      <td>RS</td>\n",
       "      <td>Family</td>\n",
       "      <td>9.5</td>\n",
       "    </tr>\n",
       "    <tr>\n",
       "      <th>3</th>\n",
       "      <td>AE</td>\n",
       "      <td>Action,Biography,Drama</td>\n",
       "      <td>9.3</td>\n",
       "    </tr>\n",
       "    <tr>\n",
       "      <th>4</th>\n",
       "      <td>SY</td>\n",
       "      <td>Action,Biography,Drama</td>\n",
       "      <td>9.3</td>\n",
       "    </tr>\n",
       "    <tr>\n",
       "      <th>5</th>\n",
       "      <td>EG</td>\n",
       "      <td>Action,Biography,Drama</td>\n",
       "      <td>9.3</td>\n",
       "    </tr>\n",
       "    <tr>\n",
       "      <th>6</th>\n",
       "      <td>DE</td>\n",
       "      <td>Action,Biography,Drama</td>\n",
       "      <td>9.3</td>\n",
       "    </tr>\n",
       "    <tr>\n",
       "      <th>7</th>\n",
       "      <td>VN</td>\n",
       "      <td>Drama</td>\n",
       "      <td>9.2</td>\n",
       "    </tr>\n",
       "    <tr>\n",
       "      <th>8</th>\n",
       "      <td>XWW</td>\n",
       "      <td>Animation,Comedy,Family</td>\n",
       "      <td>9.1</td>\n",
       "    </tr>\n",
       "    <tr>\n",
       "      <th>9</th>\n",
       "      <td>US</td>\n",
       "      <td>Adventure,Documentary,Family</td>\n",
       "      <td>9.1</td>\n",
       "    </tr>\n",
       "  </tbody>\n",
       "</table>\n",
       "</div>"
      ],
      "text/plain": [
       "  region                        genres  avgRating\n",
       "0     PK                       Romance        9.6\n",
       "1     IN                       Romance        9.5\n",
       "2     RS                        Family        9.5\n",
       "3     AE        Action,Biography,Drama        9.3\n",
       "4     SY        Action,Biography,Drama        9.3\n",
       "5     EG        Action,Biography,Drama        9.3\n",
       "6     DE        Action,Biography,Drama        9.3\n",
       "7     VN                         Drama        9.2\n",
       "8    XWW       Animation,Comedy,Family        9.1\n",
       "9     US  Adventure,Documentary,Family        9.1"
      ]
     },
     "execution_count": 31,
     "metadata": {},
     "output_type": "execute_result"
    }
   ],
   "source": [
    "%%bigquery\n",
    "WITH GenreRanking AS (\n",
    "SELECT akas.region, basics.genres,\n",
    "ROUND(AVG(ratings.averageRating), 2) AS avgRating,\n",
    "ROW_NUMBER() OVER(PARTITION BY akas.region ORDER BY AVG(ratings.averageRating) DESC) as Rank\n",
    "FROM `imdb_non_commercial_datasets_11_11.title_akas` AS akas\n",
    "INNER JOIN\n",
    "`imdb_non_commercial_datasets_11_11.title_basics` AS basics ON akas.titleId = basics.tconst\n",
    "INNER JOIN\n",
    "`imdb_non_commercial_datasets_11_11.title_ratings` AS ratings ON basics.tconst = ratings.tconst\n",
    "WHERE akas.region IS NOT NULL AND basics.titleType = \"tvSeries\" \n",
    "AND akas.region NOT LIKE '%\\\\\\\\%' AND basics.startYear = '2000'\n",
    "GROUP BY akas.region, basics.genres)\n",
    "SELECT\n",
    "region,genres,avgRating\n",
    "FROM GenreRanking\n",
    "WHERE Rank = 1 AND genres NOT LIKE '%N'\n",
    "ORDER BY avgRating DESC\n",
    "LIMIT 10"
   ]
  },
  {
   "cell_type": "code",
   "execution_count": 32,
   "id": "cf0bdf8c-5b08-4d21-be8e-d912850ee7fe",
   "metadata": {
    "tags": []
   },
   "outputs": [
    {
     "data": {
      "application/vnd.jupyter.widget-view+json": {
       "model_id": "483b17ec5e3b43b78f5f3b93ef816be7",
       "version_major": 2,
       "version_minor": 0
      },
      "text/plain": [
       "Query is running:   0%|          |"
      ]
     },
     "metadata": {},
     "output_type": "display_data"
    },
    {
     "data": {
      "application/vnd.jupyter.widget-view+json": {
       "model_id": "a7d40c4b9a3d447caab28f7dcd480498",
       "version_major": 2,
       "version_minor": 0
      },
      "text/plain": [
       "Downloading:   0%|          |"
      ]
     },
     "metadata": {},
     "output_type": "display_data"
    },
    {
     "data": {
      "text/html": [
       "<div>\n",
       "<style scoped>\n",
       "    .dataframe tbody tr th:only-of-type {\n",
       "        vertical-align: middle;\n",
       "    }\n",
       "\n",
       "    .dataframe tbody tr th {\n",
       "        vertical-align: top;\n",
       "    }\n",
       "\n",
       "    .dataframe thead th {\n",
       "        text-align: right;\n",
       "    }\n",
       "</style>\n",
       "<table border=\"1\" class=\"dataframe\">\n",
       "  <thead>\n",
       "    <tr style=\"text-align: right;\">\n",
       "      <th></th>\n",
       "      <th>region</th>\n",
       "      <th>genres</th>\n",
       "      <th>avgRating</th>\n",
       "    </tr>\n",
       "  </thead>\n",
       "  <tbody>\n",
       "    <tr>\n",
       "      <th>0</th>\n",
       "      <td>SI</td>\n",
       "      <td>Adventure</td>\n",
       "      <td>9.8</td>\n",
       "    </tr>\n",
       "    <tr>\n",
       "      <th>1</th>\n",
       "      <td>CA</td>\n",
       "      <td>Sport,Talk-Show</td>\n",
       "      <td>9.8</td>\n",
       "    </tr>\n",
       "    <tr>\n",
       "      <th>2</th>\n",
       "      <td>TZ</td>\n",
       "      <td>Adventure,Drama</td>\n",
       "      <td>9.8</td>\n",
       "    </tr>\n",
       "    <tr>\n",
       "      <th>3</th>\n",
       "      <td>BR</td>\n",
       "      <td>Animation,Drama</td>\n",
       "      <td>9.8</td>\n",
       "    </tr>\n",
       "    <tr>\n",
       "      <th>4</th>\n",
       "      <td>NG</td>\n",
       "      <td>Talk-Show</td>\n",
       "      <td>9.7</td>\n",
       "    </tr>\n",
       "    <tr>\n",
       "      <th>5</th>\n",
       "      <td>AU</td>\n",
       "      <td>Comedy,Crime,Reality-TV</td>\n",
       "      <td>9.7</td>\n",
       "    </tr>\n",
       "    <tr>\n",
       "      <th>6</th>\n",
       "      <td>ZA</td>\n",
       "      <td>Comedy,Crime,Reality-TV</td>\n",
       "      <td>9.7</td>\n",
       "    </tr>\n",
       "    <tr>\n",
       "      <th>7</th>\n",
       "      <td>US</td>\n",
       "      <td>Comedy,Crime,Reality-TV</td>\n",
       "      <td>9.7</td>\n",
       "    </tr>\n",
       "    <tr>\n",
       "      <th>8</th>\n",
       "      <td>AO</td>\n",
       "      <td>Drama</td>\n",
       "      <td>9.7</td>\n",
       "    </tr>\n",
       "    <tr>\n",
       "      <th>9</th>\n",
       "      <td>NL</td>\n",
       "      <td>Comedy,Crime,Reality-TV</td>\n",
       "      <td>9.7</td>\n",
       "    </tr>\n",
       "  </tbody>\n",
       "</table>\n",
       "</div>"
      ],
      "text/plain": [
       "  region                   genres  avgRating\n",
       "0     SI                Adventure        9.8\n",
       "1     CA          Sport,Talk-Show        9.8\n",
       "2     TZ          Adventure,Drama        9.8\n",
       "3     BR          Animation,Drama        9.8\n",
       "4     NG                Talk-Show        9.7\n",
       "5     AU  Comedy,Crime,Reality-TV        9.7\n",
       "6     ZA  Comedy,Crime,Reality-TV        9.7\n",
       "7     US  Comedy,Crime,Reality-TV        9.7\n",
       "8     AO                    Drama        9.7\n",
       "9     NL  Comedy,Crime,Reality-TV        9.7"
      ]
     },
     "execution_count": 32,
     "metadata": {},
     "output_type": "execute_result"
    }
   ],
   "source": [
    "%%bigquery\n",
    "WITH GenreRanking AS (\n",
    "SELECT \n",
    "    akas.region, basics.genres,\n",
    "    ROUND(AVG(ratings.averageRating), 2) AS avgRating,\n",
    "    ROW_NUMBER() OVER(PARTITION BY akas.region \n",
    "ORDER BY \n",
    "    AVG(ratings.averageRating) DESC) as Rank\n",
    "FROM \n",
    "    `imdb_non_commercial_datasets_11_11.title_akas` AS akas\n",
    "INNER JOIN\n",
    " `imdb_non_commercial_datasets_11_11.title_basics` AS basics \n",
    "ON akas.titleId = basics.tconst\n",
    "INNER JOIN\n",
    " `imdb_non_commercial_datasets_11_11.title_ratings` AS ratings \n",
    "ON basics.tconst = ratings.tconst\n",
    "WHERE \n",
    "    akas.region IS NOT NULL AND basics.titleType = \"tvSeries\" \n",
    "    AND akas.region NOT LIKE '%\\\\\\\\%' AND basics.startYear LIKE '202_'\n",
    "GROUP BY \n",
    "    akas.region, basics.genres)\n",
    "\n",
    "\n",
    "SELECT region,genres,avgRating\n",
    "FROM GenreRanking\n",
    "WHERE Rank = 1 AND genres NOT LIKE '%N'\n",
    "ORDER BY avgRating DESC\n",
    "LIMIT 10; "
   ]
  },
  {
   "cell_type": "markdown",
   "id": "f53fc1b2-9b63-450b-931a-4595af145b18",
   "metadata": {},
   "source": [
    "#### Findings: \n",
    "\n",
    "* In the year 2000, the top genres are more varied across different regions. The genres include Romance, Family, Action,Biography,Drama,Animation, Comedy,Adventure and Documentary. Certain regions seem to have a strong preference for specific genres. For example, Romance is highly rated in Pakistan (PK) and India (IN), while Action/Biography/Drama is popular in Syria (SY), Egypt (EG), Germany (DE), and the United Arab Emirates (AE).\n",
    "\n",
    "* By 2023, there is a clear difference in genre preferences. The top genres now include Adventure, Sport,Talk-Show, Animation,Drama,Comedy,Crime and Reality-TV. Comedy,Crime,Reality-TV is highly rated in Australia (AU), South Africa (ZA), United States (US) and Netherlands (NL).\n",
    "\n",
    "* The ratings when compares to year 2000, remnained same with most genres receiving around 9.7 to 9.8 rankings. This suggests that viewer's engagement and satisfaction with TV series have remained strong over the years."
   ]
  },
  {
   "cell_type": "markdown",
   "id": "e06d4b7f-04b2-4818-9b59-9e9c93a4b180",
   "metadata": {},
   "source": [
    "<br>"
   ]
  },
  {
   "cell_type": "markdown",
   "id": "a6d55a2d-06f7-42a2-8175-2b19a3df93a5",
   "metadata": {
    "tags": []
   },
   "source": [
    "### Question 9. How do average ratings of TV series differ when they are broadcasted outside their original region?"
   ]
  },
  {
   "cell_type": "code",
   "execution_count": 24,
   "id": "3cd1e6ef-c2fd-46c2-a321-e4cd60734147",
   "metadata": {
    "tags": []
   },
   "outputs": [
    {
     "data": {
      "application/vnd.jupyter.widget-view+json": {
       "model_id": "bd21edd9e0004e31b9e44f9d9f769440",
       "version_major": 2,
       "version_minor": 0
      },
      "text/plain": [
       "Query is running:   0%|          |"
      ]
     },
     "metadata": {},
     "output_type": "display_data"
    },
    {
     "data": {
      "application/vnd.jupyter.widget-view+json": {
       "model_id": "4638fce3ce1745a48c22e933d2d9418d",
       "version_major": 2,
       "version_minor": 0
      },
      "text/plain": [
       "Downloading:   0%|          |"
      ]
     },
     "metadata": {},
     "output_type": "display_data"
    },
    {
     "data": {
      "text/html": [
       "<div>\n",
       "<style scoped>\n",
       "    .dataframe tbody tr th:only-of-type {\n",
       "        vertical-align: middle;\n",
       "    }\n",
       "\n",
       "    .dataframe tbody tr th {\n",
       "        vertical-align: top;\n",
       "    }\n",
       "\n",
       "    .dataframe thead th {\n",
       "        text-align: right;\n",
       "    }\n",
       "</style>\n",
       "<table border=\"1\" class=\"dataframe\">\n",
       "  <thead>\n",
       "    <tr style=\"text-align: right;\">\n",
       "      <th></th>\n",
       "      <th>originalRegion</th>\n",
       "      <th>originalLanguage</th>\n",
       "      <th>popularityRegion</th>\n",
       "      <th>genres</th>\n",
       "      <th>avgRating</th>\n",
       "      <th>titleCount</th>\n",
       "    </tr>\n",
       "  </thead>\n",
       "  <tbody>\n",
       "    <tr>\n",
       "      <th>0</th>\n",
       "      <td>US</td>\n",
       "      <td>en</td>\n",
       "      <td>IT</td>\n",
       "      <td>Family,Game-Show</td>\n",
       "      <td>7.5</td>\n",
       "      <td>1</td>\n",
       "    </tr>\n",
       "    <tr>\n",
       "      <th>1</th>\n",
       "      <td>US</td>\n",
       "      <td>en</td>\n",
       "      <td>SUHH</td>\n",
       "      <td>Family,Game-Show</td>\n",
       "      <td>7.5</td>\n",
       "      <td>1</td>\n",
       "    </tr>\n",
       "    <tr>\n",
       "      <th>2</th>\n",
       "      <td>US</td>\n",
       "      <td>en</td>\n",
       "      <td>JP</td>\n",
       "      <td>Family,Game-Show</td>\n",
       "      <td>7.5</td>\n",
       "      <td>1</td>\n",
       "    </tr>\n",
       "    <tr>\n",
       "      <th>3</th>\n",
       "      <td>US</td>\n",
       "      <td>en</td>\n",
       "      <td>GB</td>\n",
       "      <td>Family,Game-Show</td>\n",
       "      <td>7.5</td>\n",
       "      <td>1</td>\n",
       "    </tr>\n",
       "    <tr>\n",
       "      <th>4</th>\n",
       "      <td>US</td>\n",
       "      <td>en</td>\n",
       "      <td>DE</td>\n",
       "      <td>Family,Game-Show</td>\n",
       "      <td>7.5</td>\n",
       "      <td>1</td>\n",
       "    </tr>\n",
       "    <tr>\n",
       "      <th>5</th>\n",
       "      <td>US</td>\n",
       "      <td>en</td>\n",
       "      <td>CA</td>\n",
       "      <td>Family,Game-Show</td>\n",
       "      <td>7.5</td>\n",
       "      <td>1</td>\n",
       "    </tr>\n",
       "    <tr>\n",
       "      <th>6</th>\n",
       "      <td>US</td>\n",
       "      <td>en</td>\n",
       "      <td>AU</td>\n",
       "      <td>Family,Game-Show</td>\n",
       "      <td>7.5</td>\n",
       "      <td>1</td>\n",
       "    </tr>\n",
       "    <tr>\n",
       "      <th>7</th>\n",
       "      <td>US</td>\n",
       "      <td>en</td>\n",
       "      <td>IN</td>\n",
       "      <td>Family,Game-Show</td>\n",
       "      <td>7.5</td>\n",
       "      <td>1</td>\n",
       "    </tr>\n",
       "    <tr>\n",
       "      <th>8</th>\n",
       "      <td>US</td>\n",
       "      <td>en</td>\n",
       "      <td>PH</td>\n",
       "      <td>Family,Game-Show</td>\n",
       "      <td>7.5</td>\n",
       "      <td>1</td>\n",
       "    </tr>\n",
       "  </tbody>\n",
       "</table>\n",
       "</div>"
      ],
      "text/plain": [
       "  originalRegion originalLanguage popularityRegion            genres  \\\n",
       "0             US               en               IT  Family,Game-Show   \n",
       "1             US               en             SUHH  Family,Game-Show   \n",
       "2             US               en               JP  Family,Game-Show   \n",
       "3             US               en               GB  Family,Game-Show   \n",
       "4             US               en               DE  Family,Game-Show   \n",
       "5             US               en               CA  Family,Game-Show   \n",
       "6             US               en               AU  Family,Game-Show   \n",
       "7             US               en               IN  Family,Game-Show   \n",
       "8             US               en               PH  Family,Game-Show   \n",
       "\n",
       "   avgRating  titleCount  \n",
       "0        7.5           1  \n",
       "1        7.5           1  \n",
       "2        7.5           1  \n",
       "3        7.5           1  \n",
       "4        7.5           1  \n",
       "5        7.5           1  \n",
       "6        7.5           1  \n",
       "7        7.5           1  \n",
       "8        7.5           1  "
      ]
     },
     "execution_count": 24,
     "metadata": {},
     "output_type": "execute_result"
    }
   ],
   "source": [
    "%%bigquery\n",
    "SELECT\n",
    "  original.region AS originalRegion,\n",
    "  original.language AS originalLanguage,\n",
    "  akas.region AS popularityRegion,\n",
    "  basics.genres,\n",
    "  ROUND(AVG(ratings.averageRating), 2) AS avgRating,\n",
    "  COUNT(DISTINCT basics.tconst) AS titleCount\n",
    "FROM\n",
    "  `imdb_non_commercial_datasets_11_11.title_basics` AS basics\n",
    "INNER JOIN\n",
    "  `imdb_non_commercial_datasets_11_11.title_akas` AS original ON basics.tconst = original.titleId AND original.isOriginalTitle = '1'\n",
    "INNER JOIN\n",
    "  `imdb_non_commercial_datasets_11_11.title_akas` AS akas ON basics.tconst = akas.titleId\n",
    "INNER JOIN\n",
    "  `imdb_non_commercial_datasets_11_11.title_ratings` AS ratings ON basics.tconst = ratings.tconst\n",
    "WHERE\n",
    "  basics.titleType IN ('tvSeries', 'tvEpisode')\n",
    "  AND original.region NOT LIKE '%\\\\\\\\%'\n",
    "  AND akas.region NOT LIKE '%\\\\\\\\%'\n",
    "  AND original.region != akas.region\n",
    "  AND original.region NOT LIKE '%\\\\\\\\%' AND original.language NOT LIKE  '%\\\\\\\\%' \n",
    "GROUP BY\n",
    "  originalRegion, originalLanguage, popularityRegion, basics.genres\n",
    "\n",
    "ORDER BY\n",
    "  originalRegion, avgRating DESC\n",
    "LIMIT 10;"
   ]
  },
  {
   "cell_type": "markdown",
   "id": "490a9a6a-6154-4abc-85d2-3fff047d4e3c",
   "metadata": {},
   "source": [
    "#### Findings: \n",
    "\n",
    "* Regardless the country of origin, TV series with genres like Family and Game-Show  maintained consistent ratings across various regions. By this, it is said that the international success lies in the content which is created by addressing universal themes and emotions, capable of bridging cultural divides.\n"
   ]
  },
  {
   "cell_type": "markdown",
   "id": "7631646e-6ba2-4e48-af2e-04ace01e4870",
   "metadata": {},
   "source": [
    "<br>"
   ]
  },
  {
   "cell_type": "markdown",
   "id": "68ce5346-d4dc-4eb7-8e80-a505225b016b",
   "metadata": {
    "tags": []
   },
   "source": [
    "### Question 10. What are the top 5 TV Series with the highest number of episodes?"
   ]
  },
  {
   "cell_type": "code",
   "execution_count": 40,
   "id": "68eb72d8-de28-4e9b-afb3-8cb4822610a0",
   "metadata": {
    "tags": []
   },
   "outputs": [
    {
     "data": {
      "application/vnd.jupyter.widget-view+json": {
       "model_id": "0e0c33fcf8c64b6898fb349a506740c9",
       "version_major": 2,
       "version_minor": 0
      },
      "text/plain": [
       "Query is running:   0%|          |"
      ]
     },
     "metadata": {},
     "output_type": "display_data"
    },
    {
     "data": {
      "application/vnd.jupyter.widget-view+json": {
       "model_id": "ceb6802abb9e4e1fb3175ed211c667e3",
       "version_major": 2,
       "version_minor": 0
      },
      "text/plain": [
       "Downloading:   0%|          |"
      ]
     },
     "metadata": {},
     "output_type": "display_data"
    },
    {
     "data": {
      "text/html": [
       "<div>\n",
       "<style scoped>\n",
       "    .dataframe tbody tr th:only-of-type {\n",
       "        vertical-align: middle;\n",
       "    }\n",
       "\n",
       "    .dataframe tbody tr th {\n",
       "        vertical-align: top;\n",
       "    }\n",
       "\n",
       "    .dataframe thead th {\n",
       "        text-align: right;\n",
       "    }\n",
       "</style>\n",
       "<table border=\"1\" class=\"dataframe\">\n",
       "  <thead>\n",
       "    <tr style=\"text-align: right;\">\n",
       "      <th></th>\n",
       "      <th>tvSeriesId</th>\n",
       "      <th>tvSeriesTitle</th>\n",
       "      <th>numberOfEpisodes</th>\n",
       "    </tr>\n",
       "  </thead>\n",
       "  <tbody>\n",
       "    <tr>\n",
       "      <th>0</th>\n",
       "      <td>tt12164062</td>\n",
       "      <td>NRK Nyheter</td>\n",
       "      <td>18593</td>\n",
       "    </tr>\n",
       "    <tr>\n",
       "      <th>1</th>\n",
       "      <td>tt0058796</td>\n",
       "      <td>Days of Our Lives</td>\n",
       "      <td>14729</td>\n",
       "    </tr>\n",
       "    <tr>\n",
       "      <th>2</th>\n",
       "      <td>tt0069658</td>\n",
       "      <td>The Young and the Restless</td>\n",
       "      <td>12791</td>\n",
       "    </tr>\n",
       "    <tr>\n",
       "      <th>3</th>\n",
       "      <td>tt0056758</td>\n",
       "      <td>General Hospital</td>\n",
       "      <td>12455</td>\n",
       "    </tr>\n",
       "    <tr>\n",
       "      <th>4</th>\n",
       "      <td>tt0053494</td>\n",
       "      <td>Coronation Street</td>\n",
       "      <td>10744</td>\n",
       "    </tr>\n",
       "  </tbody>\n",
       "</table>\n",
       "</div>"
      ],
      "text/plain": [
       "   tvSeriesId               tvSeriesTitle  numberOfEpisodes\n",
       "0  tt12164062                 NRK Nyheter             18593\n",
       "1   tt0058796           Days of Our Lives             14729\n",
       "2   tt0069658  The Young and the Restless             12791\n",
       "3   tt0056758            General Hospital             12455\n",
       "4   tt0053494           Coronation Street             10744"
      ]
     },
     "execution_count": 40,
     "metadata": {},
     "output_type": "execute_result"
    }
   ],
   "source": [
    "%%bigquery\n",
    "WITH EpisodeCounts AS (\n",
    "    SELECT\n",
    "        tb.tconst AS tvSeriesId,\n",
    "        tb.primaryTitle AS tvSeriesTitle,\n",
    "        COUNT(te.tconst) AS numberOfEpisodes\n",
    "    FROM\n",
    "        `ba775team08.imdb_non_commercial_datasets_11_11.title_basics` AS tb\n",
    "    JOIN\n",
    "        `ba775team08.imdb_non_commercial_datasets_11_11.title_episode` AS te ON tb.tconst = te.parentTconst\n",
    "    WHERE\n",
    "        tb.titleType = 'tvSeries'\n",
    "    GROUP BY\n",
    "        tb.tconst, tb.primaryTitle\n",
    ")\n",
    "\n",
    "SELECT\n",
    "    tvSeriesId,\n",
    "    tvSeriesTitle,\n",
    "    numberOfEpisodes\n",
    "FROM\n",
    "    EpisodeCounts\n",
    "ORDER BY\n",
    "    numberOfEpisodes DESC\n",
    "LIMIT 5;\n"
   ]
  },
  {
   "cell_type": "markdown",
   "id": "bf0b67aa-3656-4580-aed1-5ef7f67a4c76",
   "metadata": {},
   "source": [
    "#### Findings:\n",
    "\n",
    "* Among the TV series listed, 'NRK Nyheater' commands the highest episode count, an impressive 18,593 episodes. Following closely behind are 'Days of our Lives' with 14,729 episodes, 'The Young and the Restless' with 12,791 episodes, 'General Hospital' with 12,455 episodes, and 'Coronation Street' with 10,744 episodes."
   ]
  },
  {
   "cell_type": "markdown",
   "id": "85a26b9a-5d8d-4cdb-9bb5-77f5b3355339",
   "metadata": {},
   "source": [
    "<br>"
   ]
  },
  {
   "cell_type": "markdown",
   "id": "53cd6b67-ed13-4e27-a1ff-77c3cbccb30a",
   "metadata": {
    "tags": []
   },
   "source": [
    "### Question 11. How has the average number of episodes in TV Shows changed since the launch of streaming platforms?"
   ]
  },
  {
   "cell_type": "markdown",
   "id": "6708c78c-e400-4f60-af75-9213fcaa3ca7",
   "metadata": {},
   "source": [
    "#### 2003-2012"
   ]
  },
  {
   "cell_type": "code",
   "execution_count": 5,
   "id": "e1c0bb67-6c7c-4bb9-b426-59a691cde97a",
   "metadata": {
    "tags": []
   },
   "outputs": [
    {
     "data": {
      "application/vnd.jupyter.widget-view+json": {
       "model_id": "7d6be9168b3d4225904c738a7a5c8340",
       "version_major": 2,
       "version_minor": 0
      },
      "text/plain": [
       "Query is running:   0%|          |"
      ]
     },
     "metadata": {},
     "output_type": "display_data"
    },
    {
     "data": {
      "application/vnd.jupyter.widget-view+json": {
       "model_id": "5a531674d5944889a63e018e0749b244",
       "version_major": 2,
       "version_minor": 0
      },
      "text/plain": [
       "Downloading:   0%|          |"
      ]
     },
     "metadata": {},
     "output_type": "display_data"
    },
    {
     "data": {
      "text/html": [
       "<div>\n",
       "<style scoped>\n",
       "    .dataframe tbody tr th:only-of-type {\n",
       "        vertical-align: middle;\n",
       "    }\n",
       "\n",
       "    .dataframe tbody tr th {\n",
       "        vertical-align: top;\n",
       "    }\n",
       "\n",
       "    .dataframe thead th {\n",
       "        text-align: right;\n",
       "    }\n",
       "</style>\n",
       "<table border=\"1\" class=\"dataframe\">\n",
       "  <thead>\n",
       "    <tr style=\"text-align: right;\">\n",
       "      <th></th>\n",
       "      <th>averageEpisodes</th>\n",
       "    </tr>\n",
       "  </thead>\n",
       "  <tbody>\n",
       "    <tr>\n",
       "      <th>0</th>\n",
       "      <td>61.0</td>\n",
       "    </tr>\n",
       "  </tbody>\n",
       "</table>\n",
       "</div>"
      ],
      "text/plain": [
       "   averageEpisodes\n",
       "0             61.0"
      ]
     },
     "execution_count": 5,
     "metadata": {},
     "output_type": "execute_result"
    }
   ],
   "source": [
    "%%bigquery\n",
    "SELECT\n",
    "    ROUND(AVG(numberOfEpisodes)) AS averageEpisodes\n",
    "FROM (\n",
    "    SELECT\n",
    "        tb.tconst AS tvSeriesId,\n",
    "        COUNT(te.tconst) AS numberOfEpisodes\n",
    "    FROM\n",
    "        `ba775team08.imdb_non_commercial_datasets_11_11.title_basics` AS tb\n",
    "    JOIN\n",
    "        `ba775team08.imdb_non_commercial_datasets_11_11.title_episode` AS te ON tb.tconst = te.parentTconst\n",
    "    WHERE\n",
    "        tb.titleType = 'tvSeries'\n",
    "        AND SAFE_CAST(tb.startYear AS INT64) BETWEEN 2003 AND 2013\n",
    "        AND tb.endYear LIKE '20%'\n",
    "    GROUP BY\n",
    "        tb.tconst\n",
    ") EpisodeCounts;\n"
   ]
  },
  {
   "cell_type": "markdown",
   "id": "e72952b5-147a-4115-bfa4-0c2f63f79e23",
   "metadata": {},
   "source": [
    "#### 2013-2022"
   ]
  },
  {
   "cell_type": "code",
   "execution_count": 47,
   "id": "c5977abd-56eb-4758-8b38-147b8fcfb78c",
   "metadata": {
    "tags": []
   },
   "outputs": [
    {
     "data": {
      "application/vnd.jupyter.widget-view+json": {
       "model_id": "ebd3690bb9624ee6833da767024dc97f",
       "version_major": 2,
       "version_minor": 0
      },
      "text/plain": [
       "Query is running:   0%|          |"
      ]
     },
     "metadata": {},
     "output_type": "display_data"
    },
    {
     "data": {
      "application/vnd.jupyter.widget-view+json": {
       "model_id": "a513bbefd9f3476d8a089628b37c6575",
       "version_major": 2,
       "version_minor": 0
      },
      "text/plain": [
       "Downloading:   0%|          |"
      ]
     },
     "metadata": {},
     "output_type": "display_data"
    },
    {
     "data": {
      "text/html": [
       "<div>\n",
       "<style scoped>\n",
       "    .dataframe tbody tr th:only-of-type {\n",
       "        vertical-align: middle;\n",
       "    }\n",
       "\n",
       "    .dataframe tbody tr th {\n",
       "        vertical-align: top;\n",
       "    }\n",
       "\n",
       "    .dataframe thead th {\n",
       "        text-align: right;\n",
       "    }\n",
       "</style>\n",
       "<table border=\"1\" class=\"dataframe\">\n",
       "  <thead>\n",
       "    <tr style=\"text-align: right;\">\n",
       "      <th></th>\n",
       "      <th>averageEpisodes</th>\n",
       "    </tr>\n",
       "  </thead>\n",
       "  <tbody>\n",
       "    <tr>\n",
       "      <th>0</th>\n",
       "      <td>31.0</td>\n",
       "    </tr>\n",
       "  </tbody>\n",
       "</table>\n",
       "</div>"
      ],
      "text/plain": [
       "   averageEpisodes\n",
       "0             31.0"
      ]
     },
     "execution_count": 47,
     "metadata": {},
     "output_type": "execute_result"
    }
   ],
   "source": [
    "%%bigquery\n",
    "SELECT\n",
    "    ROUND(AVG(numberOfEpisodes)) AS averageEpisodes\n",
    "FROM (\n",
    "    SELECT\n",
    "        tb.tconst AS tvSeriesId,\n",
    "        COUNT(te.tconst) AS numberOfEpisodes\n",
    "    FROM\n",
    "        `ba775team08.imdb_non_commercial_datasets_11_11.title_basics` AS tb\n",
    "    JOIN\n",
    "        `ba775team08.imdb_non_commercial_datasets_11_11.title_episode` AS te ON tb.tconst = te.parentTconst\n",
    "    WHERE\n",
    "        tb.titleType = 'tvSeries'\n",
    "        AND SAFE_CAST(tb.startYear AS INT64) BETWEEN 2014 AND 2023\n",
    "        AND tb.endYear LIKE '20%'\n",
    "    GROUP BY\n",
    "        tb.tconst\n",
    ") EpisodeCounts;\n"
   ]
  },
  {
   "cell_type": "markdown",
   "id": "6f1e0236-bdde-4d57-94d0-88aa49f5fc0a",
   "metadata": {},
   "source": [
    "#### Findings: \n",
    "* From these two tables we can see that the number of episodes on an average has almost halved from 2014-present in comparison to the number of episodes in 2003-2013.The streaming services changed the whole dynamics of the TV industry by dropping entire seasons of 13 episodes in 2013 to compete with the 22-24 episode year long run tv shows of network TV."
   ]
  },
  {
   "cell_type": "markdown",
   "id": "9783c800-28ba-4b19-8288-4a972ed8843c",
   "metadata": {},
   "source": [
    "<br>"
   ]
  },
  {
   "cell_type": "markdown",
   "id": "5ac769cf-af96-4348-ac66-eaf1120b7924",
   "metadata": {
    "tags": []
   },
   "source": [
    "### Question 12. How has the average runtime of episodes changed since debut of streaming services?"
   ]
  },
  {
   "cell_type": "markdown",
   "id": "7078bca4-27c2-4d71-9230-64a7f7061f05",
   "metadata": {},
   "source": [
    "#### 2003-2012"
   ]
  },
  {
   "cell_type": "code",
   "execution_count": 37,
   "id": "074a3bb7-5208-485a-a437-d214f3dd4818",
   "metadata": {
    "tags": []
   },
   "outputs": [
    {
     "data": {
      "application/vnd.jupyter.widget-view+json": {
       "model_id": "d618bc61c01f4b58bc1ad120cfefe9bc",
       "version_major": 2,
       "version_minor": 0
      },
      "text/plain": [
       "Query is running:   0%|          |"
      ]
     },
     "metadata": {},
     "output_type": "display_data"
    },
    {
     "data": {
      "application/vnd.jupyter.widget-view+json": {
       "model_id": "100bf05ab1a84157b1682989aba79d1d",
       "version_major": 2,
       "version_minor": 0
      },
      "text/plain": [
       "Downloading:   0%|          |"
      ]
     },
     "metadata": {},
     "output_type": "display_data"
    },
    {
     "data": {
      "text/html": [
       "<div>\n",
       "<style scoped>\n",
       "    .dataframe tbody tr th:only-of-type {\n",
       "        vertical-align: middle;\n",
       "    }\n",
       "\n",
       "    .dataframe tbody tr th {\n",
       "        vertical-align: top;\n",
       "    }\n",
       "\n",
       "    .dataframe thead th {\n",
       "        text-align: right;\n",
       "    }\n",
       "</style>\n",
       "<table border=\"1\" class=\"dataframe\">\n",
       "  <thead>\n",
       "    <tr style=\"text-align: right;\">\n",
       "      <th></th>\n",
       "      <th>averageRuntime</th>\n",
       "    </tr>\n",
       "  </thead>\n",
       "  <tbody>\n",
       "    <tr>\n",
       "      <th>0</th>\n",
       "      <td>26.0</td>\n",
       "    </tr>\n",
       "  </tbody>\n",
       "</table>\n",
       "</div>"
      ],
      "text/plain": [
       "   averageRuntime\n",
       "0            26.0"
      ]
     },
     "execution_count": 37,
     "metadata": {},
     "output_type": "execute_result"
    }
   ],
   "source": [
    "%%bigquery\n",
    "SELECT\n",
    "    ROUND(SUM(total_runTime)/SUM(numberOfEpisodes)) AS averageRuntime\n",
    "FROM (\n",
    "    SELECT\n",
    "        tb.tconst AS tvSeriesId,\n",
    "        COUNT(te.tconst) AS numberOfEpisodes,\n",
    "        SUM(SAFE_CAST(tb.runtimeMinutes as INT64)) as total_runTime\n",
    "\n",
    "    FROM\n",
    "        `ba775team08.imdb_non_commercial_datasets_11_11.title_basics` AS tb\n",
    "    JOIN\n",
    "        `ba775team08.imdb_non_commercial_datasets_11_11.title_episode` AS te ON tb.tconst = te.parentTconst\n",
    "    WHERE\n",
    "        tb.titleType = 'tvSeries'\n",
    "        AND SAFE_CAST(tb.startYear AS INT64) BETWEEN 2003 AND 2014\n",
    "    GROUP BY\n",
    "        tb.tconst\n",
    ") EpisodeCounts;"
   ]
  },
  {
   "cell_type": "markdown",
   "id": "72b769d1-2448-4dd2-bf98-da077d7609ea",
   "metadata": {},
   "source": [
    "#### 2013-2022"
   ]
  },
  {
   "cell_type": "code",
   "execution_count": 38,
   "id": "b4adb1ef-d944-4991-8daf-815aac481814",
   "metadata": {
    "tags": []
   },
   "outputs": [
    {
     "data": {
      "application/vnd.jupyter.widget-view+json": {
       "model_id": "8d2f32af5a5044aeb491afdff16eeee3",
       "version_major": 2,
       "version_minor": 0
      },
      "text/plain": [
       "Query is running:   0%|          |"
      ]
     },
     "metadata": {},
     "output_type": "display_data"
    },
    {
     "data": {
      "application/vnd.jupyter.widget-view+json": {
       "model_id": "92cb37035a7e45eb9906a9466844765a",
       "version_major": 2,
       "version_minor": 0
      },
      "text/plain": [
       "Downloading:   0%|          |"
      ]
     },
     "metadata": {},
     "output_type": "display_data"
    },
    {
     "data": {
      "text/html": [
       "<div>\n",
       "<style scoped>\n",
       "    .dataframe tbody tr th:only-of-type {\n",
       "        vertical-align: middle;\n",
       "    }\n",
       "\n",
       "    .dataframe tbody tr th {\n",
       "        vertical-align: top;\n",
       "    }\n",
       "\n",
       "    .dataframe thead th {\n",
       "        text-align: right;\n",
       "    }\n",
       "</style>\n",
       "<table border=\"1\" class=\"dataframe\">\n",
       "  <thead>\n",
       "    <tr style=\"text-align: right;\">\n",
       "      <th></th>\n",
       "      <th>averageRuntime</th>\n",
       "    </tr>\n",
       "  </thead>\n",
       "  <tbody>\n",
       "    <tr>\n",
       "      <th>0</th>\n",
       "      <td>19.0</td>\n",
       "    </tr>\n",
       "  </tbody>\n",
       "</table>\n",
       "</div>"
      ],
      "text/plain": [
       "   averageRuntime\n",
       "0            19.0"
      ]
     },
     "execution_count": 38,
     "metadata": {},
     "output_type": "execute_result"
    }
   ],
   "source": [
    "%%bigquery\n",
    "SELECT\n",
    "    ROUND(SUM(total_runTime)/SUM(numberOfEpisodes)) AS averageRuntime\n",
    "FROM (\n",
    "    SELECT\n",
    "        tb.tconst AS tvSeriesId,\n",
    "        COUNT(te.tconst) AS numberOfEpisodes,\n",
    "        SUM(SAFE_CAST(tb.runtimeMinutes as INT64)) as total_runTime\n",
    "\n",
    "    FROM\n",
    "        `ba775team08.imdb_non_commercial_datasets_11_11.title_basics` AS tb\n",
    "    JOIN\n",
    "        `ba775team08.imdb_non_commercial_datasets_11_11.title_episode` AS te ON tb.tconst = te.parentTconst\n",
    "    WHERE\n",
    "        tb.titleType = 'tvSeries'\n",
    "        AND SAFE_CAST(tb.startYear AS INT64) BETWEEN 2014 AND 2023\n",
    "    GROUP BY\n",
    "        tb.tconst\n",
    ") EpisodeCounts;"
   ]
  },
  {
   "cell_type": "markdown",
   "id": "dc411253-6ebb-4f8d-9ae1-594fa535625e",
   "metadata": {},
   "source": [
    "#### Findings: \n",
    "* From these two tables we can see that the average episode length has reduced by 25% over the last decade, reflecting the broader trend in the media landscape towards short form content. "
   ]
  },
  {
   "cell_type": "markdown",
   "id": "7c6f7e11-d6e3-4a60-a5d3-f424fea4f5cf",
   "metadata": {
    "tags": []
   },
   "source": [
    "<br>"
   ]
  },
  {
   "cell_type": "markdown",
   "id": "f01e230e-e5f4-40e8-b187-935a3c67cf46",
   "metadata": {
    "tags": []
   },
   "source": [
    "### Question 13. How does the popularity of different genres vary over the years?"
   ]
  },
  {
   "cell_type": "code",
   "execution_count": 6,
   "id": "92dda42b-3f41-4636-903b-54d067542388",
   "metadata": {
    "tags": []
   },
   "outputs": [
    {
     "data": {
      "application/vnd.jupyter.widget-view+json": {
       "model_id": "3de4c5aaabae4fcaafc744cda3032df8",
       "version_major": 2,
       "version_minor": 0
      },
      "text/plain": [
       "Query is running:   0%|          |"
      ]
     },
     "metadata": {},
     "output_type": "display_data"
    },
    {
     "data": {
      "application/vnd.jupyter.widget-view+json": {
       "model_id": "bccb287814464e05aac023b5b0ffdc81",
       "version_major": 2,
       "version_minor": 0
      },
      "text/plain": [
       "Downloading:   0%|          |"
      ]
     },
     "metadata": {},
     "output_type": "display_data"
    },
    {
     "data": {
      "text/html": [
       "<div>\n",
       "<style scoped>\n",
       "    .dataframe tbody tr th:only-of-type {\n",
       "        vertical-align: middle;\n",
       "    }\n",
       "\n",
       "    .dataframe tbody tr th {\n",
       "        vertical-align: top;\n",
       "    }\n",
       "\n",
       "    .dataframe thead th {\n",
       "        text-align: right;\n",
       "    }\n",
       "</style>\n",
       "<table border=\"1\" class=\"dataframe\">\n",
       "  <thead>\n",
       "    <tr style=\"text-align: right;\">\n",
       "      <th></th>\n",
       "      <th>Year</th>\n",
       "      <th>TopGenre</th>\n",
       "      <th>GenreCount</th>\n",
       "    </tr>\n",
       "  </thead>\n",
       "  <tbody>\n",
       "    <tr>\n",
       "      <th>0</th>\n",
       "      <td>2023</td>\n",
       "      <td>Drama</td>\n",
       "      <td>866</td>\n",
       "    </tr>\n",
       "    <tr>\n",
       "      <th>1</th>\n",
       "      <td>2022</td>\n",
       "      <td>Drama</td>\n",
       "      <td>1019</td>\n",
       "    </tr>\n",
       "    <tr>\n",
       "      <th>2</th>\n",
       "      <td>2021</td>\n",
       "      <td>Comedy</td>\n",
       "      <td>1265</td>\n",
       "    </tr>\n",
       "    <tr>\n",
       "      <th>3</th>\n",
       "      <td>2020</td>\n",
       "      <td>Comedy</td>\n",
       "      <td>1717</td>\n",
       "    </tr>\n",
       "    <tr>\n",
       "      <th>4</th>\n",
       "      <td>2019</td>\n",
       "      <td>Comedy</td>\n",
       "      <td>1589</td>\n",
       "    </tr>\n",
       "    <tr>\n",
       "      <th>5</th>\n",
       "      <td>2018</td>\n",
       "      <td>Comedy</td>\n",
       "      <td>1696</td>\n",
       "    </tr>\n",
       "    <tr>\n",
       "      <th>6</th>\n",
       "      <td>2017</td>\n",
       "      <td>Comedy</td>\n",
       "      <td>1923</td>\n",
       "    </tr>\n",
       "    <tr>\n",
       "      <th>7</th>\n",
       "      <td>2016</td>\n",
       "      <td>Comedy</td>\n",
       "      <td>2057</td>\n",
       "    </tr>\n",
       "    <tr>\n",
       "      <th>8</th>\n",
       "      <td>2015</td>\n",
       "      <td>Comedy</td>\n",
       "      <td>2047</td>\n",
       "    </tr>\n",
       "    <tr>\n",
       "      <th>9</th>\n",
       "      <td>2014</td>\n",
       "      <td>Comedy</td>\n",
       "      <td>1862</td>\n",
       "    </tr>\n",
       "    <tr>\n",
       "      <th>10</th>\n",
       "      <td>2013</td>\n",
       "      <td>Comedy</td>\n",
       "      <td>1697</td>\n",
       "    </tr>\n",
       "    <tr>\n",
       "      <th>11</th>\n",
       "      <td>2012</td>\n",
       "      <td>Comedy</td>\n",
       "      <td>1609</td>\n",
       "    </tr>\n",
       "    <tr>\n",
       "      <th>12</th>\n",
       "      <td>2011</td>\n",
       "      <td>Comedy</td>\n",
       "      <td>1307</td>\n",
       "    </tr>\n",
       "    <tr>\n",
       "      <th>13</th>\n",
       "      <td>2010</td>\n",
       "      <td>Comedy</td>\n",
       "      <td>966</td>\n",
       "    </tr>\n",
       "    <tr>\n",
       "      <th>14</th>\n",
       "      <td>2009</td>\n",
       "      <td>Comedy</td>\n",
       "      <td>816</td>\n",
       "    </tr>\n",
       "    <tr>\n",
       "      <th>15</th>\n",
       "      <td>2008</td>\n",
       "      <td>Comedy</td>\n",
       "      <td>697</td>\n",
       "    </tr>\n",
       "    <tr>\n",
       "      <th>16</th>\n",
       "      <td>2007</td>\n",
       "      <td>Documentary</td>\n",
       "      <td>600</td>\n",
       "    </tr>\n",
       "    <tr>\n",
       "      <th>17</th>\n",
       "      <td>2006</td>\n",
       "      <td>Documentary</td>\n",
       "      <td>604</td>\n",
       "    </tr>\n",
       "    <tr>\n",
       "      <th>18</th>\n",
       "      <td>2005</td>\n",
       "      <td>Documentary</td>\n",
       "      <td>529</td>\n",
       "    </tr>\n",
       "    <tr>\n",
       "      <th>19</th>\n",
       "      <td>2004</td>\n",
       "      <td>Documentary</td>\n",
       "      <td>541</td>\n",
       "    </tr>\n",
       "    <tr>\n",
       "      <th>20</th>\n",
       "      <td>2003</td>\n",
       "      <td>Documentary</td>\n",
       "      <td>530</td>\n",
       "    </tr>\n",
       "    <tr>\n",
       "      <th>21</th>\n",
       "      <td>2002</td>\n",
       "      <td>Documentary</td>\n",
       "      <td>449</td>\n",
       "    </tr>\n",
       "    <tr>\n",
       "      <th>22</th>\n",
       "      <td>2001</td>\n",
       "      <td>Documentary</td>\n",
       "      <td>379</td>\n",
       "    </tr>\n",
       "  </tbody>\n",
       "</table>\n",
       "</div>"
      ],
      "text/plain": [
       "    Year     TopGenre  GenreCount\n",
       "0   2023        Drama         866\n",
       "1   2022        Drama        1019\n",
       "2   2021       Comedy        1265\n",
       "3   2020       Comedy        1717\n",
       "4   2019       Comedy        1589\n",
       "5   2018       Comedy        1696\n",
       "6   2017       Comedy        1923\n",
       "7   2016       Comedy        2057\n",
       "8   2015       Comedy        2047\n",
       "9   2014       Comedy        1862\n",
       "10  2013       Comedy        1697\n",
       "11  2012       Comedy        1609\n",
       "12  2011       Comedy        1307\n",
       "13  2010       Comedy         966\n",
       "14  2009       Comedy         816\n",
       "15  2008       Comedy         697\n",
       "16  2007  Documentary         600\n",
       "17  2006  Documentary         604\n",
       "18  2005  Documentary         529\n",
       "19  2004  Documentary         541\n",
       "20  2003  Documentary         530\n",
       "21  2002  Documentary         449\n",
       "22  2001  Documentary         379"
      ]
     },
     "execution_count": 6,
     "metadata": {},
     "output_type": "execute_result"
    }
   ],
   "source": [
    "%%bigquery\n",
    "WITH RankedGenres AS (\n",
    "  SELECT\n",
    "    CAST(basics.startYear AS STRING) AS Year,\n",
    "    basics.genres,\n",
    "    COUNT(*) AS GenreCount,\n",
    "    ROW_NUMBER() OVER(PARTITION BY CAST(basics.startYear AS STRING) ORDER BY COUNT(*) DESC) AS rn\n",
    "  FROM\n",
    "    `ba775team08.imdb_non_commercial_datasets_11_11.title_basics` AS basics\n",
    "  WHERE\n",
    "    basics.titleType = 'tvSeries'  -- Assuming analysis for TV series\n",
    "    AND CAST(basics.startYear AS STRING) > '2000' AND CAST(basics.startYear AS STRING) <= '2023'  -- Casting startYear as string and comparing\n",
    "    AND basics.startYear NOT LIKE '%\\\\\\\\%'  -- Exclude rows with startYear containing '%\\\\\\\\%'\n",
    "    AND basics.genres NOT LIKE '%\\\\\\\\%'  -- Exclude rows with genres containing '%\\\\\\\\%'\n",
    "    AND basics.genres != 'N/A' -- Exclude null or 'N/A' genres\n",
    "  GROUP BY\n",
    "    Year, basics.genres\n",
    ")\n",
    "\n",
    "SELECT\n",
    "  Year,\n",
    "  genres AS TopGenre,\n",
    "  GenreCount\n",
    "FROM\n",
    "  RankedGenres\n",
    "WHERE\n",
    "  rn = 1\n",
    "ORDER BY\n",
    "  Year desc;\n"
   ]
  },
  {
   "cell_type": "markdown",
   "id": "80d868d9-fc98-4789-bdc6-cf19e0a7781a",
   "metadata": {},
   "source": [
    "#### Findings:\n",
    "- During the early 2000s, there was a noticeable preference for the Documentary genre. However, a shift occurred over the years, indicating a rising popularity in the Comedy genre. This shift might be attributed to the younger generation's inclination towards more easily digestible content rather than the documentary format.\n",
    "\n",
    "- Additionally, there was a significant decline observed in the production of TV shows between 2020 and 2022. This decline could potentially be associated with the global impact of the COVID-19 pandemic, which might have disrupted or slowed down the production processes within the entertainment industry during that period."
   ]
  },
  {
   "cell_type": "markdown",
   "id": "0d6932fc-a2ee-4ccc-8fa2-fa880afa3168",
   "metadata": {},
   "source": [
    "<br>"
   ]
  },
  {
   "cell_type": "markdown",
   "id": "23693389-dff2-41cd-83e5-84e734bf7d0d",
   "metadata": {
    "tags": []
   },
   "source": [
    "## VI) Conclusion\n",
    "---"
   ]
  },
  {
   "cell_type": "markdown",
   "id": "cfdeb8d3-65e5-4df4-9644-2d3ad442911f",
   "metadata": {
    "tags": []
   },
   "source": [
    "__Based on our various findings we identified several intriguing patterns, strategies and best practices for television producers to follow for improving the chances of success in the market:__\n",
    "\n",
    "The TV industry is marked by it's adaptability, as seen in the preferences of it's gobal audience. Ability to create content that is not just high in quality but also by keeping in mind the tatste and preferences of the viewers contributes to the success in this industry.\n",
    "\n",
    "* __Regional Popularity and Ratings:__ Countries like India, USA, Canada, Great Britain, and Poland emerged as hubs for TV show production, garnering significant attention from IMDb users. However, high popularity doesn't always align with top ratings.Smaller countries like Macedonia, Bosnia, and Slovenia showcased higher-rated TV shows, indicating localized shows with devoted audiences can attain inflated ratings, contrasting the popularity-driven ratings of larger regions.\n",
    "\n",
    "* __Genre Preferences:__ 'Comedy' emerged as the predominant genre across media, indicating its dominance in the entertainment industry. Regional preferences unveiled strong inclinations towards specific genres; for instance, documentaries in English-speaking nations and action-oriented content in India. As the years passed, regardless of the changing preferences in genres, the quality or appeal of TV series has remained high, keeping viewers engaged and satisfied. It's also indicative of the TV industry's ability to evolve and adapt to changing viewer preferences and global trends.\n",
    "\n",
    "* __Director Success:__ Directors with a few highly-rated titles might be seen as specialists who deliver quality over quantity.Conversely, directors with a long list of titles may be viewed as versatile and capable of handling diverse genres and themes, even if each individual title doesn’t have top-tier ratings.\n",
    "\n",
    "* __Shift in TV Dynamics:__ The transition from traditional network TV's lengthy seasons to streaming services releasing shorter seasons with fewer episodes, notably from 22-24 episodes to 13-episode runs, revolutionized the TV landscape. This shift aimed at capturing audience attention by offering more condensed, impactful content.\n",
    "\n",
    "* __Enhanced Viewer Experience:__ The condensed episode format enhanced the overall viewing experience, fostering a binge-watching culture. Viewers appreciated the concise storytelling, leading to heightened anticipation for each new episode release, thereby contributing to increased show popularity and sustained audience engagement.\n",
    "\n",
    "* __Meaningful Content Creation:__ The paradigm shift enabled TV producers to focus on crafting more concise, story-driven content. This change allowed for more intricate plot development, character arcs, and focused narratives, leading to increased viewer engagement and sustained interest throughout the show's duration.\n"
   ]
  },
  {
   "cell_type": "markdown",
   "id": "7c109ca6-033c-4e21-9ea4-bfd57a0f1531",
   "metadata": {},
   "source": [
    "<br>"
   ]
  },
  {
   "cell_type": "markdown",
   "id": "290855ea-acd5-4201-bb44-34d5a30a541f",
   "metadata": {
    "tags": []
   },
   "source": [
    "## VII. Challenges\n",
    "---"
   ]
  },
  {
   "cell_type": "markdown",
   "id": "0a6a281f-bd88-46a6-bf94-190df25c5dc8",
   "metadata": {},
   "source": [
    "* Uploading files to Big Query was an issue as it was not automatically detecting the type of the columns. We had to choose type as \"string\" and \"cast\" to change most of the required columns appropriate types.\n",
    "\n",
    "* Analysing seven datasets to find out meaningful insights was a challenge. To overcome this issue, we had to refine our analysis to Tv series and their episodes only\n",
    "\n",
    "* Multiple query dataset connection issue: Since it was custom query set, we could not use multiple query set on the same worksheet. It needed tricky joining to make it work. \n",
    "\n",
    "* Creating dashboard visualizations directly from our custom SQL query sets posed a challenge because of the limitations in Tableau features. As a workaround, we transformed them into a story format within Tableau.\n",
    "\n",
    "* Visualizing extremely large datasets, complex queries sometimes affected Tableau's performance, leading to slower rendering and response times in Tableau.\n",
    "\n"
   ]
  },
  {
   "cell_type": "markdown",
   "id": "6b5c7c0b-08ff-467d-836a-fe1e3025ac02",
   "metadata": {},
   "source": [
    "<br>"
   ]
  },
  {
   "cell_type": "markdown",
   "id": "2bf18276-b997-467f-b97a-0fe28d4e51eb",
   "metadata": {
    "tags": []
   },
   "source": [
    "## VIII) References\n",
    "---"
   ]
  },
  {
   "cell_type": "markdown",
   "id": "4d621104-f563-4f18-bd08-0be3ff27cc6c",
   "metadata": {
    "tags": []
   },
   "source": [
    "1. [IMDb Logo](https://en.wikipedia.org/wiki/File:IMDb_TV.png)\n",
    "2. ChatGPT - to check syntax for certain commands in Bigquery like - SPLIT and Rank Window functions, etc.\n",
    "3. [IMDB wikipedia](https://en.wikipedia.org/wiki/IMDb)\n",
    "4. ChatGPT and Grammarly - for grammar and spelling check.\n",
    "5. [IMDb country code reference](https://help.imdb.com/article/contribution/other-submission-guides/country-codes/G99K4LFRMSC37DCN#)\n",
    "6. [IMDb data dictionary](https://developer.imdb.com/non-commercial-datasets/)\n",
    "7. [Miro - ERD Maker Software](https://miro.com/app/board/uXjVNNjFs3M=/)\n",
    "8. Tableau Desktop, Public for Visualization"
   ]
  },
  {
   "cell_type": "markdown",
   "id": "c5ac9abf-4c9c-4b3c-849d-a44f6e3c72d5",
   "metadata": {},
   "source": [
    "<br>"
   ]
  }
 ],
 "metadata": {
  "environment": {
   "kernel": "python3",
   "name": "common-cpu.m113",
   "type": "gcloud",
   "uri": "gcr.io/deeplearning-platform-release/base-cpu:m113"
  },
  "kernelspec": {
   "display_name": "Python 3",
   "language": "python",
   "name": "python3"
  },
  "language_info": {
   "codemirror_mode": {
    "name": "ipython",
    "version": 3
   },
   "file_extension": ".py",
   "mimetype": "text/x-python",
   "name": "python",
   "nbconvert_exporter": "python",
   "pygments_lexer": "ipython3",
   "version": "3.10.13"
  }
 },
 "nbformat": 4,
 "nbformat_minor": 5
}
